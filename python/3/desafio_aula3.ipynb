{
 "cells": [
  {
   "cell_type": "markdown",
   "metadata": {},
   "source": [
    "# Exercícios"
   ]
  },
  {
   "cell_type": "markdown",
   "metadata": {},
   "source": [
    "## 1) Crie uma classe que irá modelar características geométricas de um círculo. Deverá implementar os métodos:\n",
    "        -> Área \n",
    "        -> Perímetro\n",
    "## Utilize atributos de classe e de instância apropriados. Crie um inicializador e métodos.\n",
    "$area = \\pi*r^2$\n",
    "\n",
    "$perimetro = 2*\\pi*r$"
   ]
  },
  {
   "cell_type": "code",
<<<<<<< HEAD
   "execution_count": 15,
=======
   "execution_count": 3,
>>>>>>> f6aadb706b353dc095c7019e93afda44b4d4f147
   "metadata": {},
   "outputs": [
    {
     "name": "stdout",
     "output_type": "stream",
     "text": [
      "3.141592653589793\n",
      "6.283185307179586\n"
     ]
    }
   ],
   "source": [
    "import math\n",
    "# resposta 1\n",
    "import math\n",
    "\n",
    "class Circulo:\n",
    "    def __init__(self, raio):\n",
    "        self.raio = raio\n",
    "    def area(self):\n",
    "        return (self.raio ** 2) * math.pi\n",
    "    def perimetro(self):\n",
    "        return  2 * math.pi * self.raio\n",
    "    \n",
    "c = Circulo(1)\n",
    "print(c.area())\n",
    "print(c.perimetro())"
   ]
  },
  {
   "cell_type": "markdown",
   "metadata": {},
   "source": [
    "## 2) Crie uma classe chamada matemática que conterá duas classes: trigonométrica e algébrica. Defina dentro da classe trigonométrica as seguintes funções:\n",
    "    1 array\n",
    "    -> seno\n",
    "    -> cosseno\n",
    "    -> tangente\n",
    "## Defina dentro da classe algébrica as seguintes funções: \n",
    "    2 arrays\n",
    "    -> soma\n",
    "    -> subtração\n",
    "    -> multiplicação\n",
    "    -> divisão\n",
    "## Cada função deverá receber array e retornar array"
   ]
  },
  {
   "cell_type": "code",
<<<<<<< HEAD
   "execution_count": 16,
=======
   "execution_count": 4,
>>>>>>> f6aadb706b353dc095c7019e93afda44b4d4f147
   "metadata": {},
   "outputs": [
    {
     "name": "stdout",
     "output_type": "stream",
     "text": [
      "[1.2246468e-16 1.0000000e+00]\n",
      "[-1.000000e+00  6.123234e-17]\n",
      "[-1.22464680e-16  1.63312394e+16]\n",
      "[3. 3. 3. 3. 3. 3. 3. 3. 3. 3. 3. 3. 3. 3.]\n",
      "[-1. -1. -1. -1. -1. -1. -1. -1. -1. -1. -1. -1. -1. -1.]\n",
      "[2. 2. 2. 2. 2. 2. 2. 2. 2. 2. 2. 2. 2. 2.]\n",
      "[0.5 0.5 0.5 0.5 0.5 0.5 0.5 0.5 0.5 0.5 0.5 0.5 0.5 0.5]\n"
     ]
    }
   ],
   "source": [
    "# resposta 2\n",
    "import numpy as np\n",
    "import math\n",
    "\n",
    "class Matematica:\n",
    "    \n",
    "    class Trigonometria:\n",
    "        def __init__(self, arr):\n",
    "            self.arr = arr\n",
    "        \n",
    "        def seno(self):\n",
    "            return np.sin(self.arr)\n",
    "\n",
    "        def coseno(self):\n",
    "            return np.cos(self.arr)\n",
    "        \n",
    "        def tangente(self):\n",
    "            return np.tan(self.arr)\n",
    "\n",
    "        \n",
    "    class Algebra:\n",
    "        def __init__(self, arr1, arr2):\n",
    "            self.arr1 = arr1\n",
    "            self.arr2 = arr2\n",
    "        \n",
    "        def soma(self):\n",
    "            return self.arr1 + self.arr2\n",
    "\n",
    "        def subtracao(self):\n",
    "            return self.arr1 - self.arr2\n",
    "        \n",
    "        def multiplicacao(self):\n",
    "            return self.arr1 * self.arr2\n",
    "        \n",
    "        def divisao(self):\n",
    "            return self.arr1 / self.arr2\n",
    "            \n",
    "\n",
    "trig = Matematica.Trigonometria(np.array([math.pi, math.pi / 2]))\n",
    "print(trig.seno())\n",
    "print(trig.coseno())\n",
    "print(trig.tangente())\n",
    "\n",
    "alg = Matematica.Algebra(np.ones(14), np.ones(14) * 2)\n",
    "print(alg.soma())\n",
    "print(alg.subtracao())\n",
    "print(alg.multiplicacao())\n",
    "print(alg.divisao())\n",
    "\n",
    "            "
   ]
  },
  {
   "cell_type": "markdown",
   "metadata": {},
   "source": [
    "## 3) Dados 2 arrays, A e B, remova de A todo elemento pertencente a B"
   ]
  },
  {
   "cell_type": "code",
<<<<<<< HEAD
   "execution_count": 17,
=======
   "execution_count": 5,
>>>>>>> f6aadb706b353dc095c7019e93afda44b4d4f147
   "metadata": {},
   "outputs": [
    {
     "name": "stdout",
     "output_type": "stream",
     "text": [
      "[1 2]\n"
     ]
    }
   ],
   "source": [
    "# resposta 3\n",
    "\n",
    "a = np.array([1,2,3])\n",
    "b = np.array([3,4,5])\n",
    "\n",
    "a = np.setdiff1d(a, b)\n",
    "print(a)"
   ]
  },
  {
   "cell_type": "markdown",
   "metadata": {},
   "source": [
    "## 4) Crie uma função que recebe um array, um inteiro n e um inteiro m e que retorne outro array contendo elementos que estão entre n e m do array recebido pela função"
   ]
  },
  {
   "cell_type": "code",
<<<<<<< HEAD
   "execution_count": 18,
=======
   "execution_count": 6,
>>>>>>> f6aadb706b353dc095c7019e93afda44b4d4f147
   "metadata": {},
   "outputs": [
    {
     "data": {
      "text/plain": [
       "array([4, 5])"
      ]
     },
<<<<<<< HEAD
     "execution_count": 18,
=======
     "execution_count": 6,
>>>>>>> f6aadb706b353dc095c7019e93afda44b4d4f147
     "metadata": {},
     "output_type": "execute_result"
    }
   ],
   "source": [
    "# resposta 4\n",
    "def numbers_between(array, n, m):\n",
    "    return array[(array > n) & (array < m)].copy()\n",
    "\n",
    "numbers_between(np.arange(0, 10), 3, 6)"
   ]
  },
  {
   "cell_type": "markdown",
   "metadata": {},
   "source": [
    "## 5) Escreva uma função que recebe um vetor e um inteiro. Compare cada elemento desse vetor com o número inteiro. Se o elemento do vetor for maior, retorne a diferença entre eles, caso contrário, retorne a soma."
   ]
  },
  {
   "cell_type": "code",
<<<<<<< HEAD
   "execution_count": 19,
=======
   "execution_count": 7,
>>>>>>> f6aadb706b353dc095c7019e93afda44b4d4f147
   "metadata": {},
   "outputs": [
    {
     "data": {
      "text/plain": [
<<<<<<< HEAD
       "array([-6, -5, -4, -3, -2, -1,  0,  1,  2,  3])"
      ]
     },
     "execution_count": 19,
=======
       "array([ 6,  7,  8,  9, 10, 11, 12,  1,  2,  3])"
      ]
     },
     "execution_count": 7,
>>>>>>> f6aadb706b353dc095c7019e93afda44b4d4f147
     "metadata": {},
     "output_type": "execute_result"
    }
   ],
   "source": [
    "# resposta 5\n",
    "def diff_if_grather(array, n):\n",
<<<<<<< HEAD
    "    return np.where((array > n), array - n, array - n).copy()\n",
=======
    "    return np.where((array > n), array - n, array + n).copy()\n",
>>>>>>> f6aadb706b353dc095c7019e93afda44b4d4f147
    "\n",
    "diff_if_grather(np.arange(0, 10), 6)\n"
   ]
  },
  {
   "cell_type": "markdown",
   "metadata": {},
   "source": [
    "## 6) Dada a seguinte matriz:\n",
    "    -> [ 8,1,7\n",
    "         4,3,9\n",
    "         5,2,6]\n",
    "## escreva uma função que retorne a matriz ordenada por um dos eixos. utilize a função built-in sorted para realizar a ordenação"
   ]
  },
  {
   "cell_type": "code",
<<<<<<< HEAD
   "execution_count": 20,
   "metadata": {},
   "outputs": [
    {
     "name": "stdout",
     "output_type": "stream",
     "text": [
      "[[4 1 6]\n",
      " [5 2 7]\n",
      " [8 3 9]]\n",
      "\n",
      "[[1 7 8]\n",
      " [3 4 9]\n",
      " [2 5 6]]\n"
     ]
=======
   "execution_count": 14,
   "metadata": {},
   "outputs": [
    {
     "data": {
      "text/plain": [
       "array([[4, 1, 6],\n",
       "       [5, 2, 7],\n",
       "       [8, 3, 9]])"
      ]
     },
     "execution_count": 14,
     "metadata": {},
     "output_type": "execute_result"
>>>>>>> f6aadb706b353dc095c7019e93afda44b4d4f147
    }
   ],
   "source": [
    "# resposta 6\n",
    "def order_by_axis(matrix, axis = 0):\n",
    "    return np.apply_along_axis(sorted, axis, matrix)\n",
<<<<<<< HEAD
    "\n",
    "\n",
    "print(order_by_axis(np.array([[8,1,7], [4,3,9], [5,2,6]]), 0))\n",
    "print()\n",
    "print(order_by_axis(np.array([[8,1,7], [4,3,9], [5,2,6]]), 1))\n",
=======
    "\n",
>>>>>>> f6aadb706b353dc095c7019e93afda44b4d4f147
    "\n",
    "order_by_axis(np.array([[8,1,7], [4,3,9], [5,2,6]]), 0)"
   ]
  },
  {
   "cell_type": "code",
   "execution_count": null,
   "metadata": {},
   "outputs": [],
   "source": []
  },
  {
   "cell_type": "code",
   "execution_count": null,
   "metadata": {},
   "outputs": [],
   "source": []
  }
 ],
 "metadata": {
  "kernelspec": {
   "display_name": "Python 3",
   "language": "python",
   "name": "python3"
  },
  "language_info": {
   "codemirror_mode": {
    "name": "ipython",
    "version": 3
   },
   "file_extension": ".py",
   "mimetype": "text/x-python",
   "name": "python",
   "nbconvert_exporter": "python",
   "pygments_lexer": "ipython3",
   "version": "3.7.3"
  }
 },
 "nbformat": 4,
 "nbformat_minor": 2
}
