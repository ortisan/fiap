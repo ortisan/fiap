{
 "cells": [
  {
   "cell_type": "markdown",
   "metadata": {
    "colab_type": "text",
    "id": "yMkp1Tjo47d2"
   },
   "source": [
    "# 1) Leia o arquivo lemonades.csv usando pandas"
   ]
  },
  {
   "cell_type": "code",
   "execution_count": 0,
   "metadata": {
    "colab": {
     "base_uri": "https://localhost:8080/",
     "height": 204
    },
    "colab_type": "code",
    "id": "3mnZaJa447d4",
    "outputId": "04138980-b471-489e-8bf2-1e7b56786ab8"
   },
   "outputs": [
    {
     "data": {
      "text/html": [
       "<div>\n",
       "<style scoped>\n",
       "    .dataframe tbody tr th:only-of-type {\n",
       "        vertical-align: middle;\n",
       "    }\n",
       "\n",
       "    .dataframe tbody tr th {\n",
       "        vertical-align: top;\n",
       "    }\n",
       "\n",
       "    .dataframe thead th {\n",
       "        text-align: right;\n",
       "    }\n",
       "</style>\n",
       "<table border=\"1\" class=\"dataframe\">\n",
       "  <thead>\n",
       "    <tr style=\"text-align: right;\">\n",
       "      <th></th>\n",
       "      <th>Date</th>\n",
       "      <th>Location</th>\n",
       "      <th>Lemon</th>\n",
       "      <th>Orange</th>\n",
       "      <th>Temperature</th>\n",
       "      <th>Leaflets</th>\n",
       "      <th>Price</th>\n",
       "    </tr>\n",
       "  </thead>\n",
       "  <tbody>\n",
       "    <tr>\n",
       "      <th>0</th>\n",
       "      <td>07/01/2016</td>\n",
       "      <td>Park</td>\n",
       "      <td>97</td>\n",
       "      <td>67</td>\n",
       "      <td>70</td>\n",
       "      <td>90.0</td>\n",
       "      <td>0.25</td>\n",
       "    </tr>\n",
       "    <tr>\n",
       "      <th>1</th>\n",
       "      <td>07/02/2016</td>\n",
       "      <td>Park</td>\n",
       "      <td>98</td>\n",
       "      <td>67</td>\n",
       "      <td>72</td>\n",
       "      <td>90.0</td>\n",
       "      <td>0.25</td>\n",
       "    </tr>\n",
       "    <tr>\n",
       "      <th>2</th>\n",
       "      <td>07/03/2016</td>\n",
       "      <td>Park</td>\n",
       "      <td>110</td>\n",
       "      <td>77</td>\n",
       "      <td>71</td>\n",
       "      <td>104.0</td>\n",
       "      <td>0.25</td>\n",
       "    </tr>\n",
       "    <tr>\n",
       "      <th>3</th>\n",
       "      <td>07/04/2016</td>\n",
       "      <td>Beach</td>\n",
       "      <td>134</td>\n",
       "      <td>99</td>\n",
       "      <td>76</td>\n",
       "      <td>98.0</td>\n",
       "      <td>0.25</td>\n",
       "    </tr>\n",
       "    <tr>\n",
       "      <th>4</th>\n",
       "      <td>07/05/2016</td>\n",
       "      <td>Beach</td>\n",
       "      <td>159</td>\n",
       "      <td>118</td>\n",
       "      <td>78</td>\n",
       "      <td>135.0</td>\n",
       "      <td>0.25</td>\n",
       "    </tr>\n",
       "  </tbody>\n",
       "</table>\n",
       "</div>"
      ],
      "text/plain": [
       "         Date Location  Lemon  Orange  Temperature  Leaflets  Price\n",
       "0  07/01/2016     Park     97      67           70      90.0   0.25\n",
       "1  07/02/2016     Park     98      67           72      90.0   0.25\n",
       "2  07/03/2016     Park    110      77           71     104.0   0.25\n",
       "3  07/04/2016    Beach    134      99           76      98.0   0.25\n",
       "4  07/05/2016    Beach    159     118           78     135.0   0.25"
      ]
     },
     "execution_count": 4,
     "metadata": {
      "tags": []
     },
     "output_type": "execute_result"
    }
   ],
   "source": [
    "import pandas as pd\n",
    "\n",
    "file_lemonades_csv = pd.read_csv('./Lemonades.csv', sep = \";\")\n",
    "df = file_lemonades_csv\n",
    "df.head()"
   ]
  },
  {
   "cell_type": "markdown",
   "metadata": {
    "colab_type": "text",
    "id": "xt4yGzFs47eF"
   },
   "source": [
    "# 2) retorne as informações sobre as colunas e as principais estatísticas sobre o dataset"
   ]
  },
  {
   "cell_type": "code",
   "execution_count": 0,
   "metadata": {
    "colab": {
     "base_uri": "https://localhost:8080/",
     "height": 297
    },
    "colab_type": "code",
    "id": "dkZCylBu47eH",
    "outputId": "de80db4c-641b-496d-c9f9-ff5336d2191e"
   },
   "outputs": [
    {
     "data": {
      "text/html": [
       "<div>\n",
       "<style scoped>\n",
       "    .dataframe tbody tr th:only-of-type {\n",
       "        vertical-align: middle;\n",
       "    }\n",
       "\n",
       "    .dataframe tbody tr th {\n",
       "        vertical-align: top;\n",
       "    }\n",
       "\n",
       "    .dataframe thead th {\n",
       "        text-align: right;\n",
       "    }\n",
       "</style>\n",
       "<table border=\"1\" class=\"dataframe\">\n",
       "  <thead>\n",
       "    <tr style=\"text-align: right;\">\n",
       "      <th></th>\n",
       "      <th>Lemon</th>\n",
       "      <th>Orange</th>\n",
       "      <th>Temperature</th>\n",
       "      <th>Leaflets</th>\n",
       "      <th>Price</th>\n",
       "    </tr>\n",
       "  </thead>\n",
       "  <tbody>\n",
       "    <tr>\n",
       "      <th>count</th>\n",
       "      <td>32.00</td>\n",
       "      <td>32.00</td>\n",
       "      <td>32.00</td>\n",
       "      <td>31.00</td>\n",
       "      <td>32.00</td>\n",
       "    </tr>\n",
       "    <tr>\n",
       "      <th>mean</th>\n",
       "      <td>116.16</td>\n",
       "      <td>80.00</td>\n",
       "      <td>78.97</td>\n",
       "      <td>108.55</td>\n",
       "      <td>0.35</td>\n",
       "    </tr>\n",
       "    <tr>\n",
       "      <th>std</th>\n",
       "      <td>25.82</td>\n",
       "      <td>21.86</td>\n",
       "      <td>4.07</td>\n",
       "      <td>20.12</td>\n",
       "      <td>0.11</td>\n",
       "    </tr>\n",
       "    <tr>\n",
       "      <th>min</th>\n",
       "      <td>71.00</td>\n",
       "      <td>42.00</td>\n",
       "      <td>70.00</td>\n",
       "      <td>68.00</td>\n",
       "      <td>0.25</td>\n",
       "    </tr>\n",
       "    <tr>\n",
       "      <th>25%</th>\n",
       "      <td>98.00</td>\n",
       "      <td>66.75</td>\n",
       "      <td>77.00</td>\n",
       "      <td>90.00</td>\n",
       "      <td>0.25</td>\n",
       "    </tr>\n",
       "    <tr>\n",
       "      <th>50%</th>\n",
       "      <td>113.50</td>\n",
       "      <td>76.50</td>\n",
       "      <td>80.50</td>\n",
       "      <td>108.00</td>\n",
       "      <td>0.35</td>\n",
       "    </tr>\n",
       "    <tr>\n",
       "      <th>75%</th>\n",
       "      <td>131.75</td>\n",
       "      <td>95.00</td>\n",
       "      <td>82.00</td>\n",
       "      <td>124.00</td>\n",
       "      <td>0.50</td>\n",
       "    </tr>\n",
       "    <tr>\n",
       "      <th>max</th>\n",
       "      <td>176.00</td>\n",
       "      <td>129.00</td>\n",
       "      <td>84.00</td>\n",
       "      <td>158.00</td>\n",
       "      <td>0.50</td>\n",
       "    </tr>\n",
       "  </tbody>\n",
       "</table>\n",
       "</div>"
      ],
      "text/plain": [
       "        Lemon  Orange  Temperature  Leaflets  Price\n",
       "count   32.00   32.00        32.00     31.00  32.00\n",
       "mean   116.16   80.00        78.97    108.55   0.35\n",
       "std     25.82   21.86         4.07     20.12   0.11\n",
       "min     71.00   42.00        70.00     68.00   0.25\n",
       "25%     98.00   66.75        77.00     90.00   0.25\n",
       "50%    113.50   76.50        80.50    108.00   0.35\n",
       "75%    131.75   95.00        82.00    124.00   0.50\n",
       "max    176.00  129.00        84.00    158.00   0.50"
      ]
     },
     "execution_count": 4,
     "metadata": {
      "tags": []
     },
     "output_type": "execute_result"
    }
   ],
   "source": [
    "df.describe().round(2)"
   ]
  },
  {
   "cell_type": "markdown",
   "metadata": {
    "colab_type": "text",
    "id": "dxhzwiSG47eN"
   },
   "source": [
    "# 3)Realize a limpeza do dataset:\n",
    "### - verifique se existe valores nulos\n",
    "### - remova duplicatas\n",
    "### - trate os elementos faltantes (interpolação e media)"
   ]
  },
  {
   "cell_type": "code",
   "execution_count": 0,
   "metadata": {
    "colab": {
     "base_uri": "https://localhost:8080/",
     "height": 526
    },
    "colab_type": "code",
    "id": "mYD1bEpm47eO",
    "outputId": "915f8ea6-fd30-4d8d-a9ff-3bb9252027b2"
   },
   "outputs": [
    {
     "name": "stdout",
     "output_type": "stream",
     "text": [
      "Date           1\n",
      "Location       0\n",
      "Lemon          0\n",
      "Orange         0\n",
      "Temperature    0\n",
      "Leaflets       1\n",
      "Price          0\n",
      "dtype: int64\n"
     ]
    },
    {
     "data": {
      "text/html": [
       "<div>\n",
       "<style scoped>\n",
       "    .dataframe tbody tr th:only-of-type {\n",
       "        vertical-align: middle;\n",
       "    }\n",
       "\n",
       "    .dataframe tbody tr th {\n",
       "        vertical-align: top;\n",
       "    }\n",
       "\n",
       "    .dataframe thead th {\n",
       "        text-align: right;\n",
       "    }\n",
       "</style>\n",
       "<table border=\"1\" class=\"dataframe\">\n",
       "  <thead>\n",
       "    <tr style=\"text-align: right;\">\n",
       "      <th></th>\n",
       "      <th>Location</th>\n",
       "      <th>Lemon</th>\n",
       "      <th>Orange</th>\n",
       "      <th>Temperature</th>\n",
       "      <th>Leaflets</th>\n",
       "      <th>Price</th>\n",
       "    </tr>\n",
       "    <tr>\n",
       "      <th>Date</th>\n",
       "      <th></th>\n",
       "      <th></th>\n",
       "      <th></th>\n",
       "      <th></th>\n",
       "      <th></th>\n",
       "      <th></th>\n",
       "    </tr>\n",
       "  </thead>\n",
       "  <tbody>\n",
       "    <tr>\n",
       "      <th>2016-07-01</th>\n",
       "      <td>Park</td>\n",
       "      <td>97</td>\n",
       "      <td>67</td>\n",
       "      <td>70</td>\n",
       "      <td>90.0</td>\n",
       "      <td>0.25</td>\n",
       "    </tr>\n",
       "    <tr>\n",
       "      <th>2016-07-02</th>\n",
       "      <td>Park</td>\n",
       "      <td>98</td>\n",
       "      <td>67</td>\n",
       "      <td>72</td>\n",
       "      <td>90.0</td>\n",
       "      <td>0.25</td>\n",
       "    </tr>\n",
       "    <tr>\n",
       "      <th>2016-07-03</th>\n",
       "      <td>Park</td>\n",
       "      <td>110</td>\n",
       "      <td>77</td>\n",
       "      <td>71</td>\n",
       "      <td>104.0</td>\n",
       "      <td>0.25</td>\n",
       "    </tr>\n",
       "    <tr>\n",
       "      <th>2016-07-04</th>\n",
       "      <td>Beach</td>\n",
       "      <td>134</td>\n",
       "      <td>99</td>\n",
       "      <td>76</td>\n",
       "      <td>98.0</td>\n",
       "      <td>0.25</td>\n",
       "    </tr>\n",
       "    <tr>\n",
       "      <th>2016-07-05</th>\n",
       "      <td>Beach</td>\n",
       "      <td>159</td>\n",
       "      <td>118</td>\n",
       "      <td>78</td>\n",
       "      <td>135.0</td>\n",
       "      <td>0.25</td>\n",
       "    </tr>\n",
       "    <tr>\n",
       "      <th>2016-07-06</th>\n",
       "      <td>Beach</td>\n",
       "      <td>103</td>\n",
       "      <td>69</td>\n",
       "      <td>82</td>\n",
       "      <td>90.0</td>\n",
       "      <td>0.25</td>\n",
       "    </tr>\n",
       "    <tr>\n",
       "      <th>2016-07-07</th>\n",
       "      <td>Beach</td>\n",
       "      <td>143</td>\n",
       "      <td>101</td>\n",
       "      <td>81</td>\n",
       "      <td>135.0</td>\n",
       "      <td>0.25</td>\n",
       "    </tr>\n",
       "    <tr>\n",
       "      <th>2016-07-08</th>\n",
       "      <td>Beach</td>\n",
       "      <td>123</td>\n",
       "      <td>86</td>\n",
       "      <td>82</td>\n",
       "      <td>113.0</td>\n",
       "      <td>0.25</td>\n",
       "    </tr>\n",
       "    <tr>\n",
       "      <th>2016-07-09</th>\n",
       "      <td>Beach</td>\n",
       "      <td>134</td>\n",
       "      <td>95</td>\n",
       "      <td>80</td>\n",
       "      <td>126.0</td>\n",
       "      <td>0.25</td>\n",
       "    </tr>\n",
       "    <tr>\n",
       "      <th>2016-07-10</th>\n",
       "      <td>Beach</td>\n",
       "      <td>140</td>\n",
       "      <td>98</td>\n",
       "      <td>82</td>\n",
       "      <td>131.0</td>\n",
       "      <td>0.25</td>\n",
       "    </tr>\n",
       "  </tbody>\n",
       "</table>\n",
       "</div>"
      ],
      "text/plain": [
       "           Location  Lemon  Orange  Temperature  Leaflets  Price\n",
       "Date                                                            \n",
       "2016-07-01     Park     97      67           70      90.0   0.25\n",
       "2016-07-02     Park     98      67           72      90.0   0.25\n",
       "2016-07-03     Park    110      77           71     104.0   0.25\n",
       "2016-07-04    Beach    134      99           76      98.0   0.25\n",
       "2016-07-05    Beach    159     118           78     135.0   0.25\n",
       "2016-07-06    Beach    103      69           82      90.0   0.25\n",
       "2016-07-07    Beach    143     101           81     135.0   0.25\n",
       "2016-07-08    Beach    123      86           82     113.0   0.25\n",
       "2016-07-09    Beach    134      95           80     126.0   0.25\n",
       "2016-07-10    Beach    140      98           82     131.0   0.25"
      ]
     },
     "execution_count": 5,
     "metadata": {
      "tags": []
     },
     "output_type": "execute_result"
    }
   ],
   "source": [
    "import datetime\n",
    "\n",
    "#verificar nulos\n",
    "print(df.isnull().sum())\n",
    "\n",
    "#removendo duplicatas\n",
    "df.drop_duplicates(inplace=True)\n",
    "\n",
    "# preenchendo Leaflets com a media da coluna\n",
    "df['Leaflets'].fillna(df.Leaflets.mean(),inplace=True)\n",
    "\n",
    "## Preenchendo as datas faltantes\n",
    "df['Date'] = pd.to_datetime(df['Date'])\n",
    "g = df['Date'].notnull().cumsum()\n",
    "df['Date'] = df['Date'].ffill() + df['Date'].groupby(g).cumcount().apply(lambda x: datetime.timedelta(days=x))\n",
    "df.set_index('Date',inplace=True)\n",
    "df.head(10)"
   ]
  },
  {
   "cell_type": "markdown",
   "metadata": {
    "colab_type": "text",
    "id": "2S-_KmrU47eU"
   },
   "source": [
    "# 4) Adicione uma coluna chamada \"Sales\" que contém o total de vendas de limão e laranja"
   ]
  },
  {
   "cell_type": "code",
   "execution_count": 0,
   "metadata": {
    "colab": {
     "base_uri": "https://localhost:8080/",
     "height": 235
    },
    "colab_type": "code",
    "id": "sDgSkRF047eV",
    "outputId": "a7208164-3563-442f-d226-67211c88c548"
   },
   "outputs": [
    {
     "data": {
      "text/html": [
       "<div>\n",
       "<style scoped>\n",
       "    .dataframe tbody tr th:only-of-type {\n",
       "        vertical-align: middle;\n",
       "    }\n",
       "\n",
       "    .dataframe tbody tr th {\n",
       "        vertical-align: top;\n",
       "    }\n",
       "\n",
       "    .dataframe thead th {\n",
       "        text-align: right;\n",
       "    }\n",
       "</style>\n",
       "<table border=\"1\" class=\"dataframe\">\n",
       "  <thead>\n",
       "    <tr style=\"text-align: right;\">\n",
       "      <th></th>\n",
       "      <th>Location</th>\n",
       "      <th>Lemon</th>\n",
       "      <th>Orange</th>\n",
       "      <th>Temperature</th>\n",
       "      <th>Leaflets</th>\n",
       "      <th>Price</th>\n",
       "      <th>Sales</th>\n",
       "    </tr>\n",
       "    <tr>\n",
       "      <th>Date</th>\n",
       "      <th></th>\n",
       "      <th></th>\n",
       "      <th></th>\n",
       "      <th></th>\n",
       "      <th></th>\n",
       "      <th></th>\n",
       "      <th></th>\n",
       "    </tr>\n",
       "  </thead>\n",
       "  <tbody>\n",
       "    <tr>\n",
       "      <th>2016-07-01</th>\n",
       "      <td>Park</td>\n",
       "      <td>97</td>\n",
       "      <td>67</td>\n",
       "      <td>70</td>\n",
       "      <td>90.0</td>\n",
       "      <td>0.25</td>\n",
       "      <td>164</td>\n",
       "    </tr>\n",
       "    <tr>\n",
       "      <th>2016-07-02</th>\n",
       "      <td>Park</td>\n",
       "      <td>98</td>\n",
       "      <td>67</td>\n",
       "      <td>72</td>\n",
       "      <td>90.0</td>\n",
       "      <td>0.25</td>\n",
       "      <td>165</td>\n",
       "    </tr>\n",
       "    <tr>\n",
       "      <th>2016-07-03</th>\n",
       "      <td>Park</td>\n",
       "      <td>110</td>\n",
       "      <td>77</td>\n",
       "      <td>71</td>\n",
       "      <td>104.0</td>\n",
       "      <td>0.25</td>\n",
       "      <td>187</td>\n",
       "    </tr>\n",
       "    <tr>\n",
       "      <th>2016-07-04</th>\n",
       "      <td>Beach</td>\n",
       "      <td>134</td>\n",
       "      <td>99</td>\n",
       "      <td>76</td>\n",
       "      <td>98.0</td>\n",
       "      <td>0.25</td>\n",
       "      <td>233</td>\n",
       "    </tr>\n",
       "    <tr>\n",
       "      <th>2016-07-05</th>\n",
       "      <td>Beach</td>\n",
       "      <td>159</td>\n",
       "      <td>118</td>\n",
       "      <td>78</td>\n",
       "      <td>135.0</td>\n",
       "      <td>0.25</td>\n",
       "      <td>277</td>\n",
       "    </tr>\n",
       "  </tbody>\n",
       "</table>\n",
       "</div>"
      ],
      "text/plain": [
       "           Location  Lemon  Orange  Temperature  Leaflets  Price  Sales\n",
       "Date                                                                   \n",
       "2016-07-01     Park     97      67           70      90.0   0.25    164\n",
       "2016-07-02     Park     98      67           72      90.0   0.25    165\n",
       "2016-07-03     Park    110      77           71     104.0   0.25    187\n",
       "2016-07-04    Beach    134      99           76      98.0   0.25    233\n",
       "2016-07-05    Beach    159     118           78     135.0   0.25    277"
      ]
     },
     "execution_count": 6,
     "metadata": {
      "tags": []
     },
     "output_type": "execute_result"
    }
   ],
   "source": [
    "df['Sales'] = df['Lemon'] + df['Orange']\n",
    "df.head()"
   ]
  },
  {
   "cell_type": "markdown",
   "metadata": {
    "colab_type": "text",
    "id": "zTLHWgBX47eb"
   },
   "source": [
    "# 5) Adicione uma coluna chamada \"Revenue\" que calcula o lucro (venda*preço)"
   ]
  },
  {
   "cell_type": "code",
   "execution_count": 0,
   "metadata": {
    "colab": {
     "base_uri": "https://localhost:8080/",
     "height": 235
    },
    "colab_type": "code",
    "id": "0CwuDXdN47ed",
    "outputId": "a543522d-1e99-4e28-e73b-ac6cb481dc48"
   },
   "outputs": [
    {
     "data": {
      "text/html": [
       "<div>\n",
       "<style scoped>\n",
       "    .dataframe tbody tr th:only-of-type {\n",
       "        vertical-align: middle;\n",
       "    }\n",
       "\n",
       "    .dataframe tbody tr th {\n",
       "        vertical-align: top;\n",
       "    }\n",
       "\n",
       "    .dataframe thead th {\n",
       "        text-align: right;\n",
       "    }\n",
       "</style>\n",
       "<table border=\"1\" class=\"dataframe\">\n",
       "  <thead>\n",
       "    <tr style=\"text-align: right;\">\n",
       "      <th></th>\n",
       "      <th>Location</th>\n",
       "      <th>Lemon</th>\n",
       "      <th>Orange</th>\n",
       "      <th>Temperature</th>\n",
       "      <th>Leaflets</th>\n",
       "      <th>Price</th>\n",
       "      <th>Sales</th>\n",
       "      <th>Revenue</th>\n",
       "    </tr>\n",
       "    <tr>\n",
       "      <th>Date</th>\n",
       "      <th></th>\n",
       "      <th></th>\n",
       "      <th></th>\n",
       "      <th></th>\n",
       "      <th></th>\n",
       "      <th></th>\n",
       "      <th></th>\n",
       "      <th></th>\n",
       "    </tr>\n",
       "  </thead>\n",
       "  <tbody>\n",
       "    <tr>\n",
       "      <th>2016-07-01</th>\n",
       "      <td>Park</td>\n",
       "      <td>97</td>\n",
       "      <td>67</td>\n",
       "      <td>70</td>\n",
       "      <td>90.0</td>\n",
       "      <td>0.25</td>\n",
       "      <td>164</td>\n",
       "      <td>41.00</td>\n",
       "    </tr>\n",
       "    <tr>\n",
       "      <th>2016-07-02</th>\n",
       "      <td>Park</td>\n",
       "      <td>98</td>\n",
       "      <td>67</td>\n",
       "      <td>72</td>\n",
       "      <td>90.0</td>\n",
       "      <td>0.25</td>\n",
       "      <td>165</td>\n",
       "      <td>41.25</td>\n",
       "    </tr>\n",
       "    <tr>\n",
       "      <th>2016-07-03</th>\n",
       "      <td>Park</td>\n",
       "      <td>110</td>\n",
       "      <td>77</td>\n",
       "      <td>71</td>\n",
       "      <td>104.0</td>\n",
       "      <td>0.25</td>\n",
       "      <td>187</td>\n",
       "      <td>46.75</td>\n",
       "    </tr>\n",
       "    <tr>\n",
       "      <th>2016-07-04</th>\n",
       "      <td>Beach</td>\n",
       "      <td>134</td>\n",
       "      <td>99</td>\n",
       "      <td>76</td>\n",
       "      <td>98.0</td>\n",
       "      <td>0.25</td>\n",
       "      <td>233</td>\n",
       "      <td>58.25</td>\n",
       "    </tr>\n",
       "    <tr>\n",
       "      <th>2016-07-05</th>\n",
       "      <td>Beach</td>\n",
       "      <td>159</td>\n",
       "      <td>118</td>\n",
       "      <td>78</td>\n",
       "      <td>135.0</td>\n",
       "      <td>0.25</td>\n",
       "      <td>277</td>\n",
       "      <td>69.25</td>\n",
       "    </tr>\n",
       "  </tbody>\n",
       "</table>\n",
       "</div>"
      ],
      "text/plain": [
       "           Location  Lemon  Orange  ...  Price  Sales  Revenue\n",
       "Date                                ...                       \n",
       "2016-07-01     Park     97      67  ...   0.25    164    41.00\n",
       "2016-07-02     Park     98      67  ...   0.25    165    41.25\n",
       "2016-07-03     Park    110      77  ...   0.25    187    46.75\n",
       "2016-07-04    Beach    134      99  ...   0.25    233    58.25\n",
       "2016-07-05    Beach    159     118  ...   0.25    277    69.25\n",
       "\n",
       "[5 rows x 8 columns]"
      ]
     },
     "execution_count": 7,
     "metadata": {
      "tags": []
     },
     "output_type": "execute_result"
    }
   ],
   "source": [
    "df['Revenue'] = df['Sales'] * df['Price']\n",
    "df.head()"
   ]
  },
  {
   "cell_type": "markdown",
   "metadata": {
    "colab_type": "text",
    "id": "N-PZxyH147ej"
   },
   "source": [
    "# 6) retorne o lucro total"
   ]
  },
  {
   "cell_type": "code",
   "execution_count": 0,
   "metadata": {
    "colab": {
     "base_uri": "https://localhost:8080/",
     "height": 34
    },
    "colab_type": "code",
    "id": "RN-VOP3m47eo",
    "outputId": "894aa812-5c9f-4713-988f-7cb680ebf5db"
   },
   "outputs": [
    {
     "data": {
      "text/plain": [
       "2138.0"
      ]
     },
     "execution_count": 8,
     "metadata": {
      "tags": []
     },
     "output_type": "execute_result"
    }
   ],
   "source": [
    "df['Revenue'].sum()"
   ]
  },
  {
   "cell_type": "markdown",
   "metadata": {
    "colab_type": "text",
    "id": "4BVKq5SY47ew"
   },
   "source": [
    "# 7) escreva uma função que receba dois parâmetros, dataset e temp(int). \n",
    "### Se max for 1, ele retorna a máxima temperatura observada no conjunto de dados; se 0, retorna a média do\n",
    "### período observado; se -1, retorna a temperatura mínima"
   ]
  },
  {
   "cell_type": "code",
   "execution_count": 0,
   "metadata": {
    "colab": {
     "base_uri": "https://localhost:8080/",
     "height": 68
    },
    "colab_type": "code",
    "id": "Z6iJbq1b47ex",
    "outputId": "edf8c7d8-34ac-47cb-c035-c87a1a73c71e"
   },
   "outputs": [
    {
     "name": "stdout",
     "output_type": "stream",
     "text": [
      "temp max: 84\n",
      "temp median: 78.87\n",
      "temp min: 70\n"
     ]
    }
   ],
   "source": [
    "def temp_price(df,temp):\n",
    "    if temp == 1:\n",
    "        return df['Temperature'].max()\n",
    "    elif temp == 0:\n",
    "        return df['Temperature'].mean()\n",
    "    elif temp == -1:\n",
    "        return df['Temperature'].min()\n",
    "    \n",
    "print('temp max:',temp_price(df,1))\n",
    "print('temp median: {0:.2f}'.format(temp_price(df,0)))\n",
    "print('temp min:',temp_price(df,-1))"
   ]
  },
  {
   "cell_type": "markdown",
   "metadata": {
    "colab_type": "text",
    "id": "mecxOrKi47e4"
   },
   "source": [
    "# 8) escreva uma função que receba dois parametros (dataset, localização) e retorne o dataset com o preço do limão e laranja ajustados em 15% se a localização for 'Park' ou ajustados em 10% se a localização for 'Beach'\n"
   ]
  },
  {
   "cell_type": "code",
   "execution_count": 0,
   "metadata": {
    "colab": {
     "base_uri": "https://localhost:8080/",
     "height": 235
    },
    "colab_type": "code",
    "id": "sFCEJfKT47e6",
    "outputId": "92bc4c09-81cb-4fb5-804a-f122bbfd7cce"
   },
   "outputs": [
    {
     "data": {
      "text/html": [
       "<div>\n",
       "<style scoped>\n",
       "    .dataframe tbody tr th:only-of-type {\n",
       "        vertical-align: middle;\n",
       "    }\n",
       "\n",
       "    .dataframe tbody tr th {\n",
       "        vertical-align: top;\n",
       "    }\n",
       "\n",
       "    .dataframe thead th {\n",
       "        text-align: right;\n",
       "    }\n",
       "</style>\n",
       "<table border=\"1\" class=\"dataframe\">\n",
       "  <thead>\n",
       "    <tr style=\"text-align: right;\">\n",
       "      <th></th>\n",
       "      <th>Location</th>\n",
       "      <th>Lemon</th>\n",
       "      <th>Orange</th>\n",
       "      <th>Temperature</th>\n",
       "      <th>Leaflets</th>\n",
       "      <th>Price</th>\n",
       "      <th>Sales</th>\n",
       "      <th>Revenue</th>\n",
       "    </tr>\n",
       "    <tr>\n",
       "      <th>Date</th>\n",
       "      <th></th>\n",
       "      <th></th>\n",
       "      <th></th>\n",
       "      <th></th>\n",
       "      <th></th>\n",
       "      <th></th>\n",
       "      <th></th>\n",
       "      <th></th>\n",
       "    </tr>\n",
       "  </thead>\n",
       "  <tbody>\n",
       "    <tr>\n",
       "      <th>2016-07-01</th>\n",
       "      <td>Park</td>\n",
       "      <td>97</td>\n",
       "      <td>67</td>\n",
       "      <td>70</td>\n",
       "      <td>90.0</td>\n",
       "      <td>0.275</td>\n",
       "      <td>164</td>\n",
       "      <td>41.00</td>\n",
       "    </tr>\n",
       "    <tr>\n",
       "      <th>2016-07-02</th>\n",
       "      <td>Park</td>\n",
       "      <td>98</td>\n",
       "      <td>67</td>\n",
       "      <td>72</td>\n",
       "      <td>90.0</td>\n",
       "      <td>0.275</td>\n",
       "      <td>165</td>\n",
       "      <td>41.25</td>\n",
       "    </tr>\n",
       "    <tr>\n",
       "      <th>2016-07-03</th>\n",
       "      <td>Park</td>\n",
       "      <td>110</td>\n",
       "      <td>77</td>\n",
       "      <td>71</td>\n",
       "      <td>104.0</td>\n",
       "      <td>0.275</td>\n",
       "      <td>187</td>\n",
       "      <td>46.75</td>\n",
       "    </tr>\n",
       "    <tr>\n",
       "      <th>2016-07-04</th>\n",
       "      <td>Beach</td>\n",
       "      <td>134</td>\n",
       "      <td>99</td>\n",
       "      <td>76</td>\n",
       "      <td>98.0</td>\n",
       "      <td>0.275</td>\n",
       "      <td>233</td>\n",
       "      <td>58.25</td>\n",
       "    </tr>\n",
       "    <tr>\n",
       "      <th>2016-07-05</th>\n",
       "      <td>Beach</td>\n",
       "      <td>159</td>\n",
       "      <td>118</td>\n",
       "      <td>78</td>\n",
       "      <td>135.0</td>\n",
       "      <td>0.275</td>\n",
       "      <td>277</td>\n",
       "      <td>69.25</td>\n",
       "    </tr>\n",
       "  </tbody>\n",
       "</table>\n",
       "</div>"
      ],
      "text/plain": [
       "           Location  Lemon  Orange  ...  Price  Sales  Revenue\n",
       "Date                                ...                       \n",
       "2016-07-01     Park     97      67  ...  0.275    164    41.00\n",
       "2016-07-02     Park     98      67  ...  0.275    165    41.25\n",
       "2016-07-03     Park    110      77  ...  0.275    187    46.75\n",
       "2016-07-04    Beach    134      99  ...  0.275    233    58.25\n",
       "2016-07-05    Beach    159     118  ...  0.275    277    69.25\n",
       "\n",
       "[5 rows x 8 columns]"
      ]
     },
     "execution_count": 10,
     "metadata": {
      "tags": []
     },
     "output_type": "execute_result"
    }
   ],
   "source": [
    "def location_price(df, location):\n",
    "    aux = df.copy()\n",
    "    coef = 1.15 if 'Park' in location else 1.1\n",
    "    aux['Price'] = aux['Price'].apply(lambda x: x * coef)\n",
    "    return aux\n",
    "\n",
    "# location: Beach\n",
    "location_price(df,'Beach').head()"
   ]
  },
  {
   "cell_type": "code",
   "execution_count": 0,
   "metadata": {
    "colab": {
     "base_uri": "https://localhost:8080/",
     "height": 235
    },
    "colab_type": "code",
    "id": "fA_7KIif47e_",
    "outputId": "834b76c2-58b7-4fb7-edfd-84d0656b5ae7"
   },
   "outputs": [
    {
     "data": {
      "text/html": [
       "<div>\n",
       "<style scoped>\n",
       "    .dataframe tbody tr th:only-of-type {\n",
       "        vertical-align: middle;\n",
       "    }\n",
       "\n",
       "    .dataframe tbody tr th {\n",
       "        vertical-align: top;\n",
       "    }\n",
       "\n",
       "    .dataframe thead th {\n",
       "        text-align: right;\n",
       "    }\n",
       "</style>\n",
       "<table border=\"1\" class=\"dataframe\">\n",
       "  <thead>\n",
       "    <tr style=\"text-align: right;\">\n",
       "      <th></th>\n",
       "      <th>Location</th>\n",
       "      <th>Lemon</th>\n",
       "      <th>Orange</th>\n",
       "      <th>Temperature</th>\n",
       "      <th>Leaflets</th>\n",
       "      <th>Price</th>\n",
       "      <th>Sales</th>\n",
       "      <th>Revenue</th>\n",
       "    </tr>\n",
       "    <tr>\n",
       "      <th>Date</th>\n",
       "      <th></th>\n",
       "      <th></th>\n",
       "      <th></th>\n",
       "      <th></th>\n",
       "      <th></th>\n",
       "      <th></th>\n",
       "      <th></th>\n",
       "      <th></th>\n",
       "    </tr>\n",
       "  </thead>\n",
       "  <tbody>\n",
       "    <tr>\n",
       "      <th>2016-07-01</th>\n",
       "      <td>Park</td>\n",
       "      <td>97</td>\n",
       "      <td>67</td>\n",
       "      <td>70</td>\n",
       "      <td>90.0</td>\n",
       "      <td>0.2875</td>\n",
       "      <td>164</td>\n",
       "      <td>41.00</td>\n",
       "    </tr>\n",
       "    <tr>\n",
       "      <th>2016-07-02</th>\n",
       "      <td>Park</td>\n",
       "      <td>98</td>\n",
       "      <td>67</td>\n",
       "      <td>72</td>\n",
       "      <td>90.0</td>\n",
       "      <td>0.2875</td>\n",
       "      <td>165</td>\n",
       "      <td>41.25</td>\n",
       "    </tr>\n",
       "    <tr>\n",
       "      <th>2016-07-03</th>\n",
       "      <td>Park</td>\n",
       "      <td>110</td>\n",
       "      <td>77</td>\n",
       "      <td>71</td>\n",
       "      <td>104.0</td>\n",
       "      <td>0.2875</td>\n",
       "      <td>187</td>\n",
       "      <td>46.75</td>\n",
       "    </tr>\n",
       "    <tr>\n",
       "      <th>2016-07-04</th>\n",
       "      <td>Beach</td>\n",
       "      <td>134</td>\n",
       "      <td>99</td>\n",
       "      <td>76</td>\n",
       "      <td>98.0</td>\n",
       "      <td>0.2875</td>\n",
       "      <td>233</td>\n",
       "      <td>58.25</td>\n",
       "    </tr>\n",
       "    <tr>\n",
       "      <th>2016-07-05</th>\n",
       "      <td>Beach</td>\n",
       "      <td>159</td>\n",
       "      <td>118</td>\n",
       "      <td>78</td>\n",
       "      <td>135.0</td>\n",
       "      <td>0.2875</td>\n",
       "      <td>277</td>\n",
       "      <td>69.25</td>\n",
       "    </tr>\n",
       "  </tbody>\n",
       "</table>\n",
       "</div>"
      ],
      "text/plain": [
       "           Location  Lemon  Orange  ...   Price  Sales  Revenue\n",
       "Date                                ...                        \n",
       "2016-07-01     Park     97      67  ...  0.2875    164    41.00\n",
       "2016-07-02     Park     98      67  ...  0.2875    165    41.25\n",
       "2016-07-03     Park    110      77  ...  0.2875    187    46.75\n",
       "2016-07-04    Beach    134      99  ...  0.2875    233    58.25\n",
       "2016-07-05    Beach    159     118  ...  0.2875    277    69.25\n",
       "\n",
       "[5 rows x 8 columns]"
      ]
     },
     "execution_count": 11,
     "metadata": {
      "tags": []
     },
     "output_type": "execute_result"
    }
   ],
   "source": [
    "# location: Park\n",
    "location_price(df,'Park').head()"
   ]
  },
  {
   "cell_type": "markdown",
   "metadata": {
    "colab_type": "text",
    "id": "U1xFoE0B47fE"
   },
   "source": [
    "# 9) escreva uma função que receba o dataset como parâmetro e retorne o dataset com uma coluna a mais que mostre o rank de temperatura. O dataset retornado precisa estar ordenado de acordo com rank\n"
   ]
  },
  {
   "cell_type": "code",
   "execution_count": 0,
   "metadata": {
    "colab": {
     "base_uri": "https://localhost:8080/",
     "height": 390
    },
    "colab_type": "code",
    "id": "EuF39Umx47fG",
    "outputId": "66f81940-36f2-4c09-d487-007595304675"
   },
   "outputs": [
    {
     "data": {
      "text/html": [
       "<div>\n",
       "<style scoped>\n",
       "    .dataframe tbody tr th:only-of-type {\n",
       "        vertical-align: middle;\n",
       "    }\n",
       "\n",
       "    .dataframe tbody tr th {\n",
       "        vertical-align: top;\n",
       "    }\n",
       "\n",
       "    .dataframe thead th {\n",
       "        text-align: right;\n",
       "    }\n",
       "</style>\n",
       "<table border=\"1\" class=\"dataframe\">\n",
       "  <thead>\n",
       "    <tr style=\"text-align: right;\">\n",
       "      <th></th>\n",
       "      <th>Location</th>\n",
       "      <th>Lemon</th>\n",
       "      <th>Orange</th>\n",
       "      <th>Temperature</th>\n",
       "      <th>Leaflets</th>\n",
       "      <th>Price</th>\n",
       "      <th>Sales</th>\n",
       "      <th>Revenue</th>\n",
       "      <th>temp_rank</th>\n",
       "    </tr>\n",
       "    <tr>\n",
       "      <th>Date</th>\n",
       "      <th></th>\n",
       "      <th></th>\n",
       "      <th></th>\n",
       "      <th></th>\n",
       "      <th></th>\n",
       "      <th></th>\n",
       "      <th></th>\n",
       "      <th></th>\n",
       "      <th></th>\n",
       "    </tr>\n",
       "  </thead>\n",
       "  <tbody>\n",
       "    <tr>\n",
       "      <th>2016-07-25</th>\n",
       "      <td>Park</td>\n",
       "      <td>156</td>\n",
       "      <td>113</td>\n",
       "      <td>84</td>\n",
       "      <td>135.0</td>\n",
       "      <td>0.50</td>\n",
       "      <td>269</td>\n",
       "      <td>134.50</td>\n",
       "      <td>1</td>\n",
       "    </tr>\n",
       "    <tr>\n",
       "      <th>2016-07-12</th>\n",
       "      <td>Beach</td>\n",
       "      <td>130</td>\n",
       "      <td>95</td>\n",
       "      <td>84</td>\n",
       "      <td>99.0</td>\n",
       "      <td>0.25</td>\n",
       "      <td>225</td>\n",
       "      <td>56.25</td>\n",
       "      <td>2</td>\n",
       "    </tr>\n",
       "    <tr>\n",
       "      <th>2016-07-26</th>\n",
       "      <td>Park</td>\n",
       "      <td>176</td>\n",
       "      <td>129</td>\n",
       "      <td>83</td>\n",
       "      <td>158.0</td>\n",
       "      <td>0.35</td>\n",
       "      <td>305</td>\n",
       "      <td>106.75</td>\n",
       "      <td>3</td>\n",
       "    </tr>\n",
       "    <tr>\n",
       "      <th>2016-07-11</th>\n",
       "      <td>Beach</td>\n",
       "      <td>162</td>\n",
       "      <td>120</td>\n",
       "      <td>83</td>\n",
       "      <td>135.0</td>\n",
       "      <td>0.25</td>\n",
       "      <td>282</td>\n",
       "      <td>70.50</td>\n",
       "      <td>4</td>\n",
       "    </tr>\n",
       "    <tr>\n",
       "      <th>2016-07-10</th>\n",
       "      <td>Beach</td>\n",
       "      <td>140</td>\n",
       "      <td>98</td>\n",
       "      <td>82</td>\n",
       "      <td>131.0</td>\n",
       "      <td>0.25</td>\n",
       "      <td>238</td>\n",
       "      <td>59.50</td>\n",
       "      <td>5</td>\n",
       "    </tr>\n",
       "    <tr>\n",
       "      <th>2016-07-24</th>\n",
       "      <td>Park</td>\n",
       "      <td>121</td>\n",
       "      <td>82</td>\n",
       "      <td>82</td>\n",
       "      <td>117.0</td>\n",
       "      <td>0.50</td>\n",
       "      <td>203</td>\n",
       "      <td>101.50</td>\n",
       "      <td>6</td>\n",
       "    </tr>\n",
       "    <tr>\n",
       "      <th>2016-07-28</th>\n",
       "      <td>Park</td>\n",
       "      <td>96</td>\n",
       "      <td>63</td>\n",
       "      <td>82</td>\n",
       "      <td>90.0</td>\n",
       "      <td>0.35</td>\n",
       "      <td>159</td>\n",
       "      <td>55.65</td>\n",
       "      <td>7</td>\n",
       "    </tr>\n",
       "    <tr>\n",
       "      <th>2016-07-31</th>\n",
       "      <td>Beach</td>\n",
       "      <td>76</td>\n",
       "      <td>47</td>\n",
       "      <td>82</td>\n",
       "      <td>68.0</td>\n",
       "      <td>0.35</td>\n",
       "      <td>123</td>\n",
       "      <td>43.05</td>\n",
       "      <td>8</td>\n",
       "    </tr>\n",
       "    <tr>\n",
       "      <th>2016-07-08</th>\n",
       "      <td>Beach</td>\n",
       "      <td>123</td>\n",
       "      <td>86</td>\n",
       "      <td>82</td>\n",
       "      <td>113.0</td>\n",
       "      <td>0.25</td>\n",
       "      <td>209</td>\n",
       "      <td>52.25</td>\n",
       "      <td>9</td>\n",
       "    </tr>\n",
       "    <tr>\n",
       "      <th>2016-07-06</th>\n",
       "      <td>Beach</td>\n",
       "      <td>103</td>\n",
       "      <td>69</td>\n",
       "      <td>82</td>\n",
       "      <td>90.0</td>\n",
       "      <td>0.25</td>\n",
       "      <td>172</td>\n",
       "      <td>43.00</td>\n",
       "      <td>10</td>\n",
       "    </tr>\n",
       "  </tbody>\n",
       "</table>\n",
       "</div>"
      ],
      "text/plain": [
       "           Location  Lemon  Orange  ...  Sales  Revenue  temp_rank\n",
       "Date                                ...                           \n",
       "2016-07-25     Park    156     113  ...    269   134.50          1\n",
       "2016-07-12    Beach    130      95  ...    225    56.25          2\n",
       "2016-07-26     Park    176     129  ...    305   106.75          3\n",
       "2016-07-11    Beach    162     120  ...    282    70.50          4\n",
       "2016-07-10    Beach    140      98  ...    238    59.50          5\n",
       "2016-07-24     Park    121      82  ...    203   101.50          6\n",
       "2016-07-28     Park     96      63  ...    159    55.65          7\n",
       "2016-07-31    Beach     76      47  ...    123    43.05          8\n",
       "2016-07-08    Beach    123      86  ...    209    52.25          9\n",
       "2016-07-06    Beach    103      69  ...    172    43.00         10\n",
       "\n",
       "[10 rows x 9 columns]"
      ]
     },
     "execution_count": 12,
     "metadata": {
      "tags": []
     },
     "output_type": "execute_result"
    }
   ],
   "source": [
    "def temp_rank(df):\n",
    "    df.sort_values(by='Temperature', ascending=False, inplace=True)\n",
    "    df['temp_rank'] = df.Temperature.notnull().cumsum()\n",
    "    return df\n",
    "temp_rank(df).head(10)"
   ]
  },
  {
   "cell_type": "markdown",
   "metadata": {
    "colab_type": "text",
    "id": "7jQC-nyX47fL"
   },
   "source": [
    "# 10) Imprima um gráfico de linha que retorne o lucro ao longo do tempo"
   ]
  },
  {
   "cell_type": "code",
   "execution_count": 0,
   "metadata": {
    "colab": {
     "base_uri": "https://localhost:8080/",
     "height": 294
    },
    "colab_type": "code",
    "id": "0zjN_uIa47fM",
    "outputId": "cf72804c-8899-404f-a6d1-cdc95b196bf5"
   },
   "outputs": [
    {
     "data": {
      "image/png": "[encoded data removed]",
      "text/plain": [
       "<Figure size 432x288 with 1 Axes>"
      ]
     },
     "metadata": {
      "tags": []
     },
     "output_type": "display_data"
    }
   ],
   "source": [
    "from matplotlib import pyplot as plt\n",
    "import matplotlib.dates as mdates\n",
    "from pandas.plotting import register_matplotlib_converters\n",
    "register_matplotlib_converters()\n",
    "\n",
    "df.sort_index(inplace=True)\n",
    "xaxis = df.iloc[:,0:0]\n",
    "yaxis = df.iloc[:,7:8]\n",
    "\n",
    "ax = plt.gca()\n",
    "xaxis = mdates.date2num(xaxis)\n",
    "hfmt = mdates.DateFormatter('%m\\n%d')\n",
    "ax.xaxis.set_major_formatter(hfmt)\n",
    "\n",
    "plt.xlabel('Date')\n",
    "plt.ylabel('Revenue')\n",
    "plt.plot(yaxis)\n",
    "plt.show()"
   ]
  },
  {
   "cell_type": "markdown",
   "metadata": {
    "colab_type": "text",
    "id": "bLwgniOs47fR"
   },
   "source": [
    "# 11) crie um scatter-plot leaflets x sales. Existe alguma correlação entre os dados?"
   ]
  },
  {
   "cell_type": "code",
   "execution_count": 0,
   "metadata": {
    "colab": {
     "base_uri": "https://localhost:8080/",
     "height": 295
    },
    "colab_type": "code",
    "id": "3SK5vuVb47fT",
    "outputId": "dd48e6ed-7470-4d5f-e45e-cfca48ec9799"
   },
   "outputs": [
    {
     "data": {
      "image/png": "[encoded data removed]",
      "text/plain": [
       "<Figure size 432x288 with 1 Axes>"
      ]
     },
     "metadata": {
      "tags": []
     },
     "output_type": "display_data"
    }
   ],
   "source": [
    "leaflets = df.iloc[:,4:5]\n",
    "leaflets.reset_index(drop=True,inplace=True)\n",
    "\n",
    "sales = df.iloc[:,6:7]\n",
    "sales.reset_index(drop=True,inplace=True)\n",
    "\n",
    "plt.scatter(leaflets,sales)\n",
    "plt.xlabel('Leaflets')\n",
    "plt.ylabel('Sales')\n",
    "plt.title('Dispersao: Sales x Leaflets')\n",
    "plt.show()"
   ]
  },
  {
   "cell_type": "code",
   "execution_count": 0,
   "metadata": {
    "colab": {
     "base_uri": "https://localhost:8080/",
     "height": 34
    },
    "colab_type": "code",
    "id": "5e1OGFO_Djm2",
    "outputId": "b33cb12c-1cd6-4d00-878e-45c3c9c5383f"
   },
   "outputs": [
    {
     "name": "stdout",
     "output_type": "stream",
     "text": [
      "pearson coef: 0.84\n"
     ]
    }
   ],
   "source": [
    "import numpy as np\n",
    "from scipy import stats as sts\n",
    "\n",
    "leaflets_list = leaflets['Leaflets'].tolist()\n",
    "sales_list = sales['Sales'].tolist()\n",
    "\n",
    "print('pearson coef: {0:.2f}'.format(sts.pearsonr(leaflets_list,sales_list)[0]))\n",
    "\n",
    "# Visualmente percebe-se possível relacao linear entre panfletagem e vendas e de fato o coeficiente de correlação de Pearson\n",
    "# indica que há uma correlacao forte entre as variáveis aleatórias (p > 0.8)"
   ]
  },
  {
   "cell_type": "markdown",
   "metadata": {
    "colab_type": "text",
    "id": "Fs5PbkHunGja"
   },
   "source": [
    "# 12) crie um histograma que mostre o lucro (revenue) com 10 bins"
   ]
  },
  {
   "cell_type": "code",
   "execution_count": 0,
   "metadata": {
    "colab": {
     "base_uri": "https://localhost:8080/",
     "height": 295
    },
    "colab_type": "code",
    "id": "VSshrwsBnHfI",
    "outputId": "f6ecf9ca-4b7a-4f15-acd6-425336efc07c"
   },
   "outputs": [
    {
     "data": {
      "image/png": "[encoded data removed]",
      "text/plain": [
       "<Figure size 432x288 with 1 Axes>"
      ]
     },
     "metadata": {
      "tags": []
     },
     "output_type": "display_data"
    }
   ],
   "source": [
    "revenues = df['Revenue'].copy()\n",
    "revenues.reset_index(drop=True,inplace=True)\n",
    "\n",
    "plt.hist(revenues, 10, density=True, facecolor='g', alpha=0.75)\n",
    "plt.xlabel('Revenue')\n",
    "plt.ylabel('Frequency')\n",
    "plt.title('Histogram of Revenue')\n",
    "plt.axis([40, 140, 0, 0.04])\n",
    "plt.grid(True)\n",
    "plt.show()"
   ]
  },
  {
   "cell_type": "markdown",
   "metadata": {
    "colab_type": "text",
    "id": "g7Bko1csrWk_"
   },
   "source": [
    "# 13) crie um gráfico de linha que compute o lucro por tipo de fruta ao longo do tempo."
   ]
  },
  {
   "cell_type": "code",
   "execution_count": 0,
   "metadata": {
    "colab": {
     "base_uri": "https://localhost:8080/",
     "height": 548
    },
    "colab_type": "code",
    "id": "2HaeXZP0tAKH",
    "outputId": "bf8cff40-a6f0-4c2b-aec4-5771c91267c3"
   },
   "outputs": [
    {
     "data": {
      "image/png": "[encoded data removed]",
      "text/plain": [
       "<Figure size 648x648 with 2 Axes>"
      ]
     },
     "metadata": {
      "tags": []
     },
     "output_type": "display_data"
    }
   ],
   "source": [
    "df_new = df.copy()\n",
    "\n",
    "df_new['Lemon_Revenue'] = df_new.Lemon * df_new.Price\n",
    "df_new['Orange_Revenue'] = df_new.Orange * df_new.Price\n",
    "\n",
    "columns_plot = ['Lemon_Revenue', 'Orange_Revenue']\n",
    "axis = df_new[columns_plot].plot(subplots=True, figsize=(9, 9))\n",
    "for ax in axis:\n",
    "    ax.set_ylabel('Revenue')"
   ]
  },
  {
   "cell_type": "markdown",
   "metadata": {
    "colab_type": "text",
    "id": "CnZmMsT_p-la"
   },
   "source": [
    "# 14) usando regressão linear, prediga vendas a partir de:\n",
    "- temperature\n",
    "- leaflets\n",
    "- price\n",
    "- retorne o gráfico com a reta ajustada aos dados para cada variável"
   ]
  },
  {
   "cell_type": "code",
   "execution_count": null,
   "metadata": {
    "colab": {
     "base_uri": "https://localhost:8080/",
     "height": 204
    },
    "colab_type": "code",
    "id": "-PdjfvRA7m1A",
    "outputId": "a540545e-6819-4e43-95e3-c8c79653e2e8"
   },
   "outputs": [],
   "source": [
    "#cópia do Dataset\n",
    "df_lr = df.copy()\n",
    "df_lr['Leaflets'] = df_lr['Leaflets'].astype('int')\n",
    "df_lr.reset_index(drop=True,inplace=True)\n",
    "df_lr.head()"
   ]
  },
  {
   "cell_type": "code",
   "execution_count": null,
   "metadata": {
    "colab": {},
    "colab_type": "code",
    "id": "ER41AxK27myb"
   },
   "outputs": [],
   "source": [
    "import altair as alt"
   ]
  },
  {
   "cell_type": "code",
   "execution_count": null,
   "metadata": {
    "colab": {},
    "colab_type": "code",
    "id": "9My-Pv37SG2W"
   },
   "outputs": [],
   "source": [
    "class LinearRegression():\n",
    "    \n",
    "    def cost_function(self,X,y,theta):\n",
    "        m = len(y) #número de amostras\n",
    "        J = 0 # custo\n",
    "        \n",
    "        for i in range(m):\n",
    "            J = J + np.power((theta[0] + theta[1] * X[1][i] - y[i]),2)\n",
    "        \n",
    "        return J*(1/(2*m))\n",
    "    \n",
    "    def gradient_descent(self,X,y,theta,alpha,num_iter):\n",
    "        m = len(y)\n",
    "        J_history = np.zeros(num_iter)\n",
    "        temp0 = 0\n",
    "        temp1 = 0\n",
    "        \n",
    "        for k in range(num_iter):\n",
    "        \n",
    "            for i in range(m):\n",
    "                temp0 = temp0 - alpha * (1/m * (theta[0] + theta[1] * X[1][i] - y[i]))\n",
    "                temp1 = temp1 - alpha * (1/m * (theta[0] + theta[1] * X[1][i] - y[i]))*X[1][i]\n",
    "                theta[0] = temp0\n",
    "                theta[1] = temp1\n",
    "                \n",
    "            J_history[k] = self.cost_function(X,y,theta)\n",
    "    \n",
    "        return theta,J_history"
   ]
  },
  {
   "cell_type": "code",
   "execution_count": null,
   "metadata": {
    "colab": {},
    "colab_type": "code",
    "id": "Yk-5BvcK7mvD"
   },
   "outputs": [],
   "source": [
    "#df_temp_sales = df_lr[['Temperature','Sales']]\n",
    "df_leafs_sales = df_lr[['Leaflets','Sales']].astype('float')\n",
    "#df_price_sales = df_lr[['Price','Sales']]"
   ]
  },
  {
   "cell_type": "code",
   "execution_count": 0,
   "metadata": {
    "colab": {
     "base_uri": "https://localhost:8080/",
     "height": 368
    },
    "colab_type": "code",
    "id": "rR6wusEe7mKV",
    "outputId": "e670058e-d7c5-4b06-98ae-46afb8ef4988"
   },
   "outputs": [
    {
     "data": {
      "text/html": [
       "<!DOCTYPE html>\n",
       "<html>\n",
       "<head>\n",
       "  <style>\n",
       "    .vega-actions a {\n",
       "        margin-right: 12px;\n",
       "        color: #757575;\n",
       "        font-weight: normal;\n",
       "        font-size: 13px;\n",
       "    }\n",
       "    .error {\n",
       "        color: red;\n",
       "    }\n",
       "  </style>\n",
       "  <script type=\"text/javascript\" src=\"https://cdn.jsdelivr.net/npm//vega@5\"></script>\n",
       "  <script type=\"text/javascript\" src=\"https://cdn.jsdelivr.net/npm//vega-lite@3.3.0\"></script>\n",
       "  <script type=\"text/javascript\" src=\"https://cdn.jsdelivr.net/npm//vega-embed@4\"></script>\n",
       "</head>\n",
       "<body>\n",
       "  <div id=\"altair-viz\"></div>\n",
       "  <script>\n",
       "      var spec = {\"config\": {\"view\": {\"width\": 400, \"height\": 300}, \"mark\": {\"tooltip\": null}}, \"data\": {\"name\": \"data-b82d28e757b5df60c129529ee73b39b0\"}, \"mark\": {\"type\": \"circle\", \"size\": 60}, \"encoding\": {\"x\": {\"type\": \"quantitative\", \"field\": \"Leaflets\"}, \"y\": {\"type\": \"quantitative\", \"field\": \"Sales\"}}, \"$schema\": \"https://vega.github.io/schema/vega-lite/v3.3.0.json\", \"datasets\": {\"data-b82d28e757b5df60c129529ee73b39b0\": [{\"Leaflets\": 90.0, \"Sales\": 164.0}, {\"Leaflets\": 90.0, \"Sales\": 165.0}, {\"Leaflets\": 104.0, \"Sales\": 187.0}, {\"Leaflets\": 98.0, \"Sales\": 233.0}, {\"Leaflets\": 135.0, \"Sales\": 277.0}, {\"Leaflets\": 90.0, \"Sales\": 172.0}, {\"Leaflets\": 135.0, \"Sales\": 244.0}, {\"Leaflets\": 113.0, \"Sales\": 209.0}, {\"Leaflets\": 126.0, \"Sales\": 229.0}, {\"Leaflets\": 131.0, \"Sales\": 238.0}, {\"Leaflets\": 135.0, \"Sales\": 282.0}, {\"Leaflets\": 99.0, \"Sales\": 225.0}, {\"Leaflets\": 99.0, \"Sales\": 184.0}, {\"Leaflets\": 113.0, \"Sales\": 207.0}, {\"Leaflets\": 108.0, \"Sales\": 160.0}, {\"Leaflets\": 90.0, \"Sales\": 131.0}, {\"Leaflets\": 126.0, \"Sales\": 191.0}, {\"Leaflets\": 122.0, \"Sales\": 223.0}, {\"Leaflets\": 113.0, \"Sales\": 207.0}, {\"Leaflets\": 109.0, \"Sales\": 113.0}, {\"Leaflets\": 90.0, \"Sales\": 133.0}, {\"Leaflets\": 108.0, \"Sales\": 187.0}, {\"Leaflets\": 117.0, \"Sales\": 202.0}, {\"Leaflets\": 117.0, \"Sales\": 203.0}, {\"Leaflets\": 135.0, \"Sales\": 269.0}, {\"Leaflets\": 158.0, \"Sales\": 305.0}, {\"Leaflets\": 99.0, \"Sales\": 172.0}, {\"Leaflets\": 90.0, \"Sales\": 159.0}, {\"Leaflets\": 95.0, \"Sales\": 166.0}, {\"Leaflets\": 81.0, \"Sales\": 145.0}, {\"Leaflets\": 68.0, \"Sales\": 123.0}]}};\n",
       "      var embedOpt = {\"mode\": \"vega-lite\"};\n",
       "\n",
       "      function showError(el, error){\n",
       "          el.innerHTML = ('<div class=\"error\" style=\"color:red;\">'\n",
       "                          + '<p>JavaScript Error: ' + error.message + '</p>'\n",
       "                          + \"<p>This usually means there's a typo in your chart specification. \"\n",
       "                          + \"See the javascript console for the full traceback.</p>\"\n",
       "                          + '</div>');\n",
       "          throw error;\n",
       "      }\n",
       "      const el = document.getElementById('altair-viz');\n",
       "      vegaEmbed(\"#altair-viz\", spec, embedOpt)\n",
       "        .catch(error => showError(el, error));\n",
       "\n",
       "  </script>\n",
       "</body>\n",
       "</html>"
      ],
      "text/plain": [
       "Chart({\n",
       "  data:     Leaflets  Sales\n",
       "  0       90.0  164.0\n",
       "  1       90.0  165.0\n",
       "  2      104.0  187.0\n",
       "  3       98.0  233.0\n",
       "  4      135.0  277.0\n",
       "  5       90.0  172.0\n",
       "  6      135.0  244.0\n",
       "  7      113.0  209.0\n",
       "  8      126.0  229.0\n",
       "  9      131.0  238.0\n",
       "  10     135.0  282.0\n",
       "  11      99.0  225.0\n",
       "  12      99.0  184.0\n",
       "  13     113.0  207.0\n",
       "  14     108.0  160.0\n",
       "  15      90.0  131.0\n",
       "  16     126.0  191.0\n",
       "  17     122.0  223.0\n",
       "  18     113.0  207.0\n",
       "  19     109.0  113.0\n",
       "  20      90.0  133.0\n",
       "  21     108.0  187.0\n",
       "  22     117.0  202.0\n",
       "  23     117.0  203.0\n",
       "  24     135.0  269.0\n",
       "  25     158.0  305.0\n",
       "  26      99.0  172.0\n",
       "  27      90.0  159.0\n",
       "  28      95.0  166.0\n",
       "  29      81.0  145.0\n",
       "  30      68.0  123.0,\n",
       "  encoding: FacetedEncoding({\n",
       "    x: X({\n",
       "      field: 'Leaflets',\n",
       "      type: 'quantitative'\n",
       "    }),\n",
       "    y: Y({\n",
       "      field: 'Sales',\n",
       "      type: 'quantitative'\n",
       "    })\n",
       "  }),\n",
       "  mark: MarkDef({\n",
       "    size: 60,\n",
       "    type: 'circle'\n",
       "  })\n",
       "})"
      ]
     },
     "execution_count": 104,
     "metadata": {
      "tags": []
     },
     "output_type": "execute_result"
    }
   ],
   "source": [
    "data_plot_LS = alt.Chart(df_leafs_sales).mark_circle(size=60).encode(\n",
    "    x='Leaflets:Q',\n",
    "    y='Sales:Q'\n",
    ")\n",
    "data_plot_LS"
   ]
  },
  {
   "cell_type": "code",
   "execution_count": 0,
   "metadata": {
    "colab": {},
    "colab_type": "code",
    "id": "hWYKuONKK_lj"
   },
   "outputs": [],
   "source": [
    "x = df_leafs_sales.iloc[0:,0:1]\n",
    "ones = np.ones(len(df_leafs_sales))\n",
    "x.insert(0,len(x.columns) + 1,ones)\n",
    "y = df_leafs_sales.iloc[:,1]\n",
    "theta = np.zeros(len(x.columns))\n",
    "x.columns = range(x.shape[1])\n",
    "iterations = 60\n",
    "alpha = 0.1"
   ]
  },
  {
   "cell_type": "code",
   "execution_count": 0,
   "metadata": {
    "colab": {},
    "colab_type": "code",
    "id": "Jjy5hVi9SO0H"
   },
   "outputs": [],
   "source": [
    "lr = LinearRegression()"
   ]
  },
  {
   "cell_type": "code",
   "execution_count": 0,
   "metadata": {
    "colab": {
     "base_uri": "https://localhost:8080/",
     "height": 34
    },
    "colab_type": "code",
    "id": "VLzPET2SK_Wx",
    "outputId": "7afa491e-4f2d-4fc9-9a78-998994827a60"
   },
   "outputs": [
    {
     "data": {
      "text/plain": [
       "20517.24193548387"
      ]
     },
     "execution_count": 134,
     "metadata": {
      "tags": []
     },
     "output_type": "execute_result"
    }
   ],
   "source": [
    "cost = lr.cost_function(x,y,theta)\n",
    "cost"
   ]
  },
  {
   "cell_type": "code",
   "execution_count": 0,
   "metadata": {
    "colab": {
     "base_uri": "https://localhost:8080/",
     "height": 136
    },
    "colab_type": "code",
    "id": "iPHcwDGDUGZh",
    "outputId": "37a68bb4-f11f-4916-c0e3-182871a96b09"
   },
   "outputs": [
    {
     "name": "stderr",
     "output_type": "stream",
     "text": [
      "/usr/local/lib/python3.6/dist-packages/ipykernel_launcher.py:8: RuntimeWarning: overflow encountered in power\n",
      "  \n",
      "/usr/local/lib/python3.6/dist-packages/ipykernel_launcher.py:21: RuntimeWarning: overflow encountered in double_scalars\n",
      "/usr/local/lib/python3.6/dist-packages/ipykernel_launcher.py:22: RuntimeWarning: overflow encountered in double_scalars\n",
      "/usr/local/lib/python3.6/dist-packages/ipykernel_launcher.py:21: RuntimeWarning: invalid value encountered in double_scalars\n",
      "/usr/local/lib/python3.6/dist-packages/ipykernel_launcher.py:22: RuntimeWarning: invalid value encountered in double_scalars\n"
     ]
    },
    {
     "data": {
      "text/plain": [
       "array([nan, nan])"
      ]
     },
     "execution_count": 135,
     "metadata": {
      "tags": []
     },
     "output_type": "execute_result"
    }
   ],
   "source": [
    "theta_lr, custo_h = lr.gradient_descent(x,y,theta,alpha,iterations)\n",
    "theta_lr"
   ]
  },
  {
   "cell_type": "markdown",
   "metadata": {
    "colab_type": "text",
    "id": "amcTRU_M7iP5"
   },
   "source": [
    "# 15) usando regressão linear, prediga vendas a partir das três variáveis juntas"
   ]
  },
  {
   "cell_type": "code",
   "execution_count": 0,
   "metadata": {
    "colab": {},
    "colab_type": "code",
    "id": "vvv3fWOPp_bE"
   },
   "outputs": [],
   "source": [
    "from sklearn.model_selection import train_test_split\n",
    "from sklearn import linear_model\n",
    "from sklearn.metrics import mean_squared_error\n",
    "\n",
    "#inicialização de variáveis\n",
    "feature_col = ['Temperature','Leaflets','Price']\n",
    "meta_col = ['Sales']\n",
    "\n",
    "#criação dos datasets para treinamento\n",
    "X = df_lr[feature_col].values\n",
    "y = df_lr[meta_col].values\n",
    "v_test_size = 0.5\n",
    "v_train_size = 0.5"
   ]
  },
  {
   "cell_type": "code",
   "execution_count": 0,
   "metadata": {
    "colab": {},
    "colab_type": "code",
    "id": "-Yte6KnPwYjj"
   },
   "outputs": [],
   "source": [
    "#treinamento\n",
    "X_train, X_test, y_train, y_test = train_test_split(X, y, test_size=v_test_size, train_size=v_train_size)"
   ]
  },
  {
   "cell_type": "code",
   "execution_count": 0,
   "metadata": {
    "colab": {
     "base_uri": "https://localhost:8080/",
     "height": 34
    },
    "colab_type": "code",
    "id": "EcTfJefBwZ85",
    "outputId": "7d5116ac-fc25-4bb3-e04c-ba7e7870fe9c"
   },
   "outputs": [
    {
     "data": {
      "text/plain": [
       "LinearRegression(copy_X=True, fit_intercept=True, n_jobs=None, normalize=False)"
      ]
     },
     "execution_count": 24,
     "metadata": {
      "tags": []
     },
     "output_type": "execute_result"
    }
   ],
   "source": [
    "#criação do modelo\n",
    "model_lr = linear_model.LinearRegression()\n",
    "model_lr.fit(X_train, y_train.ravel())"
   ]
  },
  {
   "cell_type": "code",
   "execution_count": 0,
   "metadata": {
    "colab": {
     "base_uri": "https://localhost:8080/",
     "height": 85
    },
    "colab_type": "code",
    "id": "COCXX5vUwbEK",
    "outputId": "c7ca26f9-b506-4185-a8f1-4d77a43ce4cd"
   },
   "outputs": [
    {
     "data": {
      "text/plain": [
       "array([172.61728166, 198.54159797, 175.63223009, 271.45885412,\n",
       "       183.5312405 , 203.04983599, 136.93405318, 262.64868333,\n",
       "       174.94272792, 206.40302737, 182.40840479, 165.95846282,\n",
       "       133.65986553, 250.81742292, 231.4100421 , 223.5486127 ])"
      ]
     },
     "execution_count": 25,
     "metadata": {
      "tags": []
     },
     "output_type": "execute_result"
    }
   ],
   "source": [
    "#predição\n",
    "y_pred = model_lr.predict(X_test)\n",
    "y_pred"
   ]
  },
  {
   "cell_type": "code",
   "execution_count": 0,
   "metadata": {
    "colab": {
     "base_uri": "https://localhost:8080/",
     "height": 34
    },
    "colab_type": "code",
    "id": "LYAG3ZYywjSR",
    "outputId": "0a38cbdc-4dd8-4d9c-a09c-dfb01faea86d"
   },
   "outputs": [
    {
     "data": {
      "text/plain": [
       "469.44079610204494"
      ]
     },
     "execution_count": 26,
     "metadata": {
      "tags": []
     },
     "output_type": "execute_result"
    }
   ],
   "source": [
    "mean_squared_error(y_test,y_pred)"
   ]
  },
  {
   "cell_type": "code",
   "execution_count": 0,
   "metadata": {
    "colab": {
     "base_uri": "https://localhost:8080/",
     "height": 34
    },
    "colab_type": "code",
    "id": "IrzT3amCwlll",
    "outputId": "4beb5c25-965e-4909-bf9c-8d26ad5099d0"
   },
   "outputs": [
    {
     "data": {
      "text/plain": [
       "array([170.4344899])"
      ]
     },
     "execution_count": 27,
     "metadata": {
      "tags": []
     },
     "output_type": "execute_result"
    }
   ],
   "source": [
    "#testando com as três variáveis\n",
    "pred_value = [[70, 90, 0.25]] #Temperature / Leaflets / Price\n",
    "model_lr.predict(pred_value)"
   ]
  },
  {
   "cell_type": "markdown",
   "metadata": {
    "colab_type": "text",
    "id": "q8VfGhqhbtNs"
   },
   "source": [
    "# 16) Usando a Regressão Linear implementada em sala como modelo, generalize o algoritmo para que ele possa ser usado para regressão multivariada"
   ]
  },
  {
   "cell_type": "code",
   "execution_count": 0,
   "metadata": {
    "colab": {},
    "colab_type": "code",
    "id": "Z2vpJM3pbvXy"
   },
   "outputs": [],
   "source": [
    "import numpy as np\n",
    "from functools import reduce\n",
    "import operator\n",
    "  \n",
    "class LinearRegressionMulti():\n",
    "  \n",
    "  def __sum_values(self,arr_values):\n",
    "    aux = np.array([0])\n",
    "    for line in arr_values:\n",
    "      x = sum(line)\n",
    "      aux = np.vstack([aux, x])\n",
    "    return aux[1:]\n",
    "\n",
    "  def __sub_values(self,arr_values):\n",
    "    aux = np.array([0])\n",
    "    for line in arr_values:\n",
    "      x = reduce(operator.sub, line)\n",
    "      aux = np.vstack([aux, x])\n",
    "    return aux[1:]\n",
    "\n",
    "  def cost_function(self,X,y,theta):\n",
    "      m = len(y) #número de amostras\n",
    "      J = 0 # custo\n",
    "\n",
    "      X_calc = self.__sub_values(X)\n",
    "\n",
    "      for i in range(m):\n",
    "          J = J + np.power((theta[0] + theta[1] * X_calc[i] - y[i]),2)\n",
    "\n",
    "      return J*(1/(2*m))\n",
    "\n",
    "  def gradient_descent(self,X,y,theta,alpha,num_iter):\n",
    "      m = len(y)\n",
    "      J_history = np.zeros(num_iter)\n",
    "      temp0 = 0\n",
    "      temp1 = 0\n",
    "\n",
    "      X_calc = self.__sub_values(X)\n",
    "\n",
    "      for k in range(num_iter):\n",
    "\n",
    "          for i in range(m):\n",
    "              temp0 = temp0 - alpha * (1/m * (theta[0] + theta[1] * X_calc[i] - y[i]))\n",
    "              temp1 = temp1 - alpha * (1/m * (theta[0] + theta[1] * X_calc[i]))*X_calc[i]\n",
    "              theta[0] = temp0\n",
    "              theta[1] = temp1\n",
    "\n",
    "          J_history[k] = self.cost_function(X,y,theta)\n",
    "\n",
    "      return theta,J_history"
   ]
  },
  {
   "cell_type": "markdown",
   "metadata": {
    "colab_type": "text",
    "id": "X-Y3MXkPIHd5"
   },
   "source": [
    "#17) aplique o algoritmo implementado no conjunto de dados consumo cerveja usando as mesmas features para treinamento. Compare os resultados que você obteve com os resultados obtidos através da Scikit Learning"
   ]
  },
  {
   "cell_type": "code",
   "execution_count": 0,
   "metadata": {
    "colab": {
     "base_uri": "https://localhost:8080/",
     "height": 204
    },
    "colab_type": "code",
    "id": "-JvCZskW8ZGz",
    "outputId": "24030796-0191-40a2-db44-c8860604e6e5"
   },
   "outputs": [
    {
     "data": {
      "text/html": [
       "<div>\n",
       "<style scoped>\n",
       "    .dataframe tbody tr th:only-of-type {\n",
       "        vertical-align: middle;\n",
       "    }\n",
       "\n",
       "    .dataframe tbody tr th {\n",
       "        vertical-align: top;\n",
       "    }\n",
       "\n",
       "    .dataframe thead th {\n",
       "        text-align: right;\n",
       "    }\n",
       "</style>\n",
       "<table border=\"1\" class=\"dataframe\">\n",
       "  <thead>\n",
       "    <tr style=\"text-align: right;\">\n",
       "      <th></th>\n",
       "      <th>Data</th>\n",
       "      <th>meanTemp</th>\n",
       "      <th>minTemp</th>\n",
       "      <th>maxTemp</th>\n",
       "      <th>precip</th>\n",
       "      <th>weekend</th>\n",
       "      <th>consumo</th>\n",
       "    </tr>\n",
       "  </thead>\n",
       "  <tbody>\n",
       "    <tr>\n",
       "      <th>0</th>\n",
       "      <td>01/01/2015</td>\n",
       "      <td>27.30</td>\n",
       "      <td>23.9</td>\n",
       "      <td>32.5</td>\n",
       "      <td>0.0</td>\n",
       "      <td>0</td>\n",
       "      <td>25.461</td>\n",
       "    </tr>\n",
       "    <tr>\n",
       "      <th>1</th>\n",
       "      <td>02/01/2015</td>\n",
       "      <td>27.02</td>\n",
       "      <td>24.5</td>\n",
       "      <td>33.5</td>\n",
       "      <td>0.0</td>\n",
       "      <td>0</td>\n",
       "      <td>28.972</td>\n",
       "    </tr>\n",
       "    <tr>\n",
       "      <th>2</th>\n",
       "      <td>03/01/2015</td>\n",
       "      <td>24.82</td>\n",
       "      <td>22.4</td>\n",
       "      <td>29.9</td>\n",
       "      <td>0.0</td>\n",
       "      <td>1</td>\n",
       "      <td>30.814</td>\n",
       "    </tr>\n",
       "    <tr>\n",
       "      <th>3</th>\n",
       "      <td>04/01/2015</td>\n",
       "      <td>23.98</td>\n",
       "      <td>21.5</td>\n",
       "      <td>28.6</td>\n",
       "      <td>1.2</td>\n",
       "      <td>1</td>\n",
       "      <td>29.799</td>\n",
       "    </tr>\n",
       "    <tr>\n",
       "      <th>4</th>\n",
       "      <td>05/01/2015</td>\n",
       "      <td>23.82</td>\n",
       "      <td>21.0</td>\n",
       "      <td>28.3</td>\n",
       "      <td>0.0</td>\n",
       "      <td>0</td>\n",
       "      <td>28.900</td>\n",
       "    </tr>\n",
       "  </tbody>\n",
       "</table>\n",
       "</div>"
      ],
      "text/plain": [
       "         Data  meanTemp  minTemp  maxTemp  precip  weekend  consumo\n",
       "0  01/01/2015     27.30     23.9     32.5     0.0        0   25.461\n",
       "1  02/01/2015     27.02     24.5     33.5     0.0        0   28.972\n",
       "2  03/01/2015     24.82     22.4     29.9     0.0        1   30.814\n",
       "3  04/01/2015     23.98     21.5     28.6     1.2        1   29.799\n",
       "4  05/01/2015     23.82     21.0     28.3     0.0        0   28.900"
      ]
     },
     "execution_count": 29,
     "metadata": {
      "tags": []
     },
     "output_type": "execute_result"
    }
   ],
   "source": [
    "df_beer = pd.read_csv('./Consumo_cerveja.csv',nrows=365,delimiter=';')\n",
    "df_beer = df_beer.rename(columns={'Temperatura Media (C)':'meanTemp','Temperatura Minima (C)':'minTemp','Temperatura Maxima (C)':'maxTemp',\n",
    "                       'Precipitacao (mm)':'precip','Final de Semana':'weekend','Consumo de cerveja (litros)':'consumo'})\n",
    "df_beer.head()"
   ]
  },
  {
   "cell_type": "code",
   "execution_count": 0,
   "metadata": {
    "colab": {},
    "colab_type": "code",
    "id": "XuVuXMuuDX1Q"
   },
   "outputs": [],
   "source": [
    "feature_col = ['maxTemp','precip','weekend']\n",
    "\n",
    "arr_values = df_beer[feature_col].values\n",
    "\n",
    "aux = np.array([0])\n",
    "for line in arr_values:\n",
    "  x = sum(line)\n",
    "  aux = np.vstack([aux, x])\n",
    "\n",
    "aux"
   ]
  },
  {
   "cell_type": "code",
   "execution_count": 0,
   "metadata": {
    "colab": {},
    "colab_type": "code",
    "id": "RRDAHsp98t1z"
   },
   "outputs": [],
   "source": [
    "feature_col = ['maxTemp','precip','weekend']\n",
    "meta_col = ['consumo']\n",
    "\n",
    "X = df_beer[feature_col].values\n",
    "Y = df_beer[meta_col].values\n",
    "theta = np.zeros(len(X))\n",
    "iterations = 1500\n",
    "alpha = 0.01"
   ]
  },
  {
   "cell_type": "code",
   "execution_count": 0,
   "metadata": {
    "colab": {},
    "colab_type": "code",
    "id": "Ueps7SYZ9Ceb"
   },
   "outputs": [],
   "source": [
    "lr = LinearRegressionMulti()"
   ]
  },
  {
   "cell_type": "code",
   "execution_count": 0,
   "metadata": {
    "colab": {
     "base_uri": "https://localhost:8080/",
     "height": 34
    },
    "colab_type": "code",
    "id": "kjnj7If4-C1g",
    "outputId": "9fcb97d0-5104-4fe3-943b-da33de453f76"
   },
   "outputs": [
    {
     "data": {
      "text/plain": [
       "array([332.26444391])"
      ]
     },
     "execution_count": 32,
     "metadata": {
      "tags": []
     },
     "output_type": "execute_result"
    }
   ],
   "source": [
    "custo = lr.cost_function(X,Y,theta)\n",
    "custo"
   ]
  },
  {
   "cell_type": "code",
   "execution_count": 0,
   "metadata": {
    "colab": {
     "base_uri": "https://localhost:8080/",
     "height": 1000
    },
    "colab_type": "code",
    "id": "teTYF55hFKpf",
    "outputId": "505b1fb0-6c42-4ac0-f8d9-06c2e7065f8e"
   },
   "outputs": [
    {
     "data": {
      "text/plain": [
       "array([89.47521273, -2.63951165,  0.        ,  0.        ,  0.        ,\n",
       "        0.        ,  0.        ,  0.        ,  0.        ,  0.        ,\n",
       "        0.        ,  0.        ,  0.        ,  0.        ,  0.        ,\n",
       "        0.        ,  0.        ,  0.        ,  0.        ,  0.        ,\n",
       "        0.        ,  0.        ,  0.        ,  0.        ,  0.        ,\n",
       "        0.        ,  0.        ,  0.        ,  0.        ,  0.        ,\n",
       "        0.        ,  0.        ,  0.        ,  0.        ,  0.        ,\n",
       "        0.        ,  0.        ,  0.        ,  0.        ,  0.        ,\n",
       "        0.        ,  0.        ,  0.        ,  0.        ,  0.        ,\n",
       "        0.        ,  0.        ,  0.        ,  0.        ,  0.        ,\n",
       "        0.        ,  0.        ,  0.        ,  0.        ,  0.        ,\n",
       "        0.        ,  0.        ,  0.        ,  0.        ,  0.        ,\n",
       "        0.        ,  0.        ,  0.        ,  0.        ,  0.        ,\n",
       "        0.        ,  0.        ,  0.        ,  0.        ,  0.        ,\n",
       "        0.        ,  0.        ,  0.        ,  0.        ,  0.        ,\n",
       "        0.        ,  0.        ,  0.        ,  0.        ,  0.        ,\n",
       "        0.        ,  0.        ,  0.        ,  0.        ,  0.        ,\n",
       "        0.        ,  0.        ,  0.        ,  0.        ,  0.        ,\n",
       "        0.        ,  0.        ,  0.        ,  0.        ,  0.        ,\n",
       "        0.        ,  0.        ,  0.        ,  0.        ,  0.        ,\n",
       "        0.        ,  0.        ,  0.        ,  0.        ,  0.        ,\n",
       "        0.        ,  0.        ,  0.        ,  0.        ,  0.        ,\n",
       "        0.        ,  0.        ,  0.        ,  0.        ,  0.        ,\n",
       "        0.        ,  0.        ,  0.        ,  0.        ,  0.        ,\n",
       "        0.        ,  0.        ,  0.        ,  0.        ,  0.        ,\n",
       "        0.        ,  0.        ,  0.        ,  0.        ,  0.        ,\n",
       "        0.        ,  0.        ,  0.        ,  0.        ,  0.        ,\n",
       "        0.        ,  0.        ,  0.        ,  0.        ,  0.        ,\n",
       "        0.        ,  0.        ,  0.        ,  0.        ,  0.        ,\n",
       "        0.        ,  0.        ,  0.        ,  0.        ,  0.        ,\n",
       "        0.        ,  0.        ,  0.        ,  0.        ,  0.        ,\n",
       "        0.        ,  0.        ,  0.        ,  0.        ,  0.        ,\n",
       "        0.        ,  0.        ,  0.        ,  0.        ,  0.        ,\n",
       "        0.        ,  0.        ,  0.        ,  0.        ,  0.        ,\n",
       "        0.        ,  0.        ,  0.        ,  0.        ,  0.        ,\n",
       "        0.        ,  0.        ,  0.        ,  0.        ,  0.        ,\n",
       "        0.        ,  0.        ,  0.        ,  0.        ,  0.        ,\n",
       "        0.        ,  0.        ,  0.        ,  0.        ,  0.        ,\n",
       "        0.        ,  0.        ,  0.        ,  0.        ,  0.        ,\n",
       "        0.        ,  0.        ,  0.        ,  0.        ,  0.        ,\n",
       "        0.        ,  0.        ,  0.        ,  0.        ,  0.        ,\n",
       "        0.        ,  0.        ,  0.        ,  0.        ,  0.        ,\n",
       "        0.        ,  0.        ,  0.        ,  0.        ,  0.        ,\n",
       "        0.        ,  0.        ,  0.        ,  0.        ,  0.        ,\n",
       "        0.        ,  0.        ,  0.        ,  0.        ,  0.        ,\n",
       "        0.        ,  0.        ,  0.        ,  0.        ,  0.        ,\n",
       "        0.        ,  0.        ,  0.        ,  0.        ,  0.        ,\n",
       "        0.        ,  0.        ,  0.        ,  0.        ,  0.        ,\n",
       "        0.        ,  0.        ,  0.        ,  0.        ,  0.        ,\n",
       "        0.        ,  0.        ,  0.        ,  0.        ,  0.        ,\n",
       "        0.        ,  0.        ,  0.        ,  0.        ,  0.        ,\n",
       "        0.        ,  0.        ,  0.        ,  0.        ,  0.        ,\n",
       "        0.        ,  0.        ,  0.        ,  0.        ,  0.        ,\n",
       "        0.        ,  0.        ,  0.        ,  0.        ,  0.        ,\n",
       "        0.        ,  0.        ,  0.        ,  0.        ,  0.        ,\n",
       "        0.        ,  0.        ,  0.        ,  0.        ,  0.        ,\n",
       "        0.        ,  0.        ,  0.        ,  0.        ,  0.        ,\n",
       "        0.        ,  0.        ,  0.        ,  0.        ,  0.        ,\n",
       "        0.        ,  0.        ,  0.        ,  0.        ,  0.        ,\n",
       "        0.        ,  0.        ,  0.        ,  0.        ,  0.        ,\n",
       "        0.        ,  0.        ,  0.        ,  0.        ,  0.        ,\n",
       "        0.        ,  0.        ,  0.        ,  0.        ,  0.        ,\n",
       "        0.        ,  0.        ,  0.        ,  0.        ,  0.        ,\n",
       "        0.        ,  0.        ,  0.        ,  0.        ,  0.        ,\n",
       "        0.        ,  0.        ,  0.        ,  0.        ,  0.        ,\n",
       "        0.        ,  0.        ,  0.        ,  0.        ,  0.        ,\n",
       "        0.        ,  0.        ,  0.        ,  0.        ,  0.        ,\n",
       "        0.        ,  0.        ,  0.        ,  0.        ,  0.        ,\n",
       "        0.        ,  0.        ,  0.        ,  0.        ,  0.        ,\n",
       "        0.        ,  0.        ,  0.        ,  0.        ,  0.        ,\n",
       "        0.        ,  0.        ,  0.        ,  0.        ,  0.        ,\n",
       "        0.        ,  0.        ,  0.        ,  0.        ,  0.        ,\n",
       "        0.        ,  0.        ,  0.        ,  0.        ,  0.        ])"
      ]
     },
     "execution_count": 33,
     "metadata": {
      "tags": []
     },
     "output_type": "execute_result"
    }
   ],
   "source": [
    "theta_lr, custo_h = lr.gradient_descent(X,Y,theta,alpha,iterations)\n",
    "theta_lr"
   ]
  },
  {
   "cell_type": "code",
   "execution_count": 0,
   "metadata": {
    "colab": {
     "base_uri": "https://localhost:8080/",
     "height": 34
    },
    "colab_type": "code",
    "id": "dzQpZx_xFqpz",
    "outputId": "c994ad37-6f78-4335-bf32-91d0af9844ca"
   },
   "outputs": [
    {
     "data": {
      "text/plain": [
       "(365,)"
      ]
     },
     "execution_count": 34,
     "metadata": {
      "tags": []
     },
     "output_type": "execute_result"
    }
   ],
   "source": [
    "theta_lr.shape"
   ]
  }
 ],
 "metadata": {
  "accelerator": "GPU",
  "colab": {
   "collapsed_sections": [],
   "name": "Copy of trabalho_final.ipynb",
   "provenance": [],
   "version": "0.3.2"
  },
  "kernelspec": {
   "display_name": "Python 3",
   "language": "python",
   "name": "python3"
  },
  "language_info": {
   "codemirror_mode": {
    "name": "ipython",
    "version": 3
   },
   "file_extension": ".py",
   "mimetype": "text/x-python",
   "name": "python",
   "nbconvert_exporter": "python",
   "pygments_lexer": "ipython3",
   "version": "3.7.3"
  }
 },
 "nbformat": 4,
 "nbformat_minor": 1
}
