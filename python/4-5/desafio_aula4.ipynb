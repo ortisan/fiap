{
 "cells": [
  {
   "cell_type": "markdown",
   "metadata": {},
   "source": [
    "# Exercícios"
   ]
  },
  {
   "cell_type": "markdown",
   "metadata": {},
   "source": [
    "## 1) Considerando o código abaixo, faça:\n",
    "    -> Crie um df a partir de data cujo index seja labels. Faça os imports necessários\n",
    "    -> Preencha os valores faltantes com a média dos valores\n",
    "    -> Retorne uma lista única dos animais\n",
    "    -> Compute as estatísticas básicas (contagem, soma, média, desvio padrão e variância)"
   ]
  },
  {
   "cell_type": "code",
   "execution_count": 33,
   "metadata": {},
   "outputs": [],
   "source": [
    "import numpy as np\n",
    "import pandas as pd\n",
    "\n",
    "data = {'animal': ['cat', 'cat', 'snake', 'dog', 'dog', 'cat', 'snake', 'cat', 'dog', 'dog'],\n",
    "        'age': [2.5, 3, 0.5, np.nan, 5, 2, 4.5, np.nan, 7, 3],\n",
    "        'visits': [1, 3, 2, 3, 2, 3, 1, 1, 2, 1],\n",
    "        'priority': ['yes', 'yes', 'no', 'yes', 'no', 'no', 'no', 'yes', 'no', 'no']}\n",
    "\n",
    "labels = ['a', 'b', 'c', 'd', 'e', 'f', 'g', 'h', 'i', 'j']"
   ]
  },
  {
   "cell_type": "code",
   "execution_count": 77,
   "metadata": {},
   "outputs": [
    {
     "name": "stdout",
     "output_type": "stream",
     "text": [
      "a)\n",
      "\n",
      "   animal  age  visits priority\n",
      "a    cat  2.5       1      yes\n",
      "b    cat  3.0       3      yes\n",
      "c  snake  0.5       2       no\n",
      "d    dog  NaN       3      yes\n",
      "e    dog  5.0       2       no\n",
      "f    cat  2.0       3       no\n",
      "g  snake  4.5       1       no\n",
      "h    cat  NaN       1      yes\n",
      "i    dog  7.0       2       no\n",
      "j    dog  3.0       1       no\n",
      "\n",
      "\n",
      "b)\n",
      "\n",
      "   animal     age  visits priority\n",
      "a    cat  2.5000       1      yes\n",
      "b    cat  3.0000       3      yes\n",
      "c  snake  0.5000       2       no\n",
      "d    dog  3.4375       3      yes\n",
      "e    dog  5.0000       2       no\n",
      "f    cat  2.0000       3       no\n",
      "g  snake  4.5000       1       no\n",
      "h    cat  3.4375       1      yes\n",
      "i    dog  7.0000       2       no\n",
      "j    dog  3.0000       1       no\n",
      "\n",
      "\n",
      "c)\n",
      "\n",
      " ['cat' 'snake' 'dog']\n",
      "\n",
      "\n",
      "d)\n",
      "\n",
      "\n",
      "Contagem:\n",
      "\n",
      " 10\n",
      "\n",
      "\n",
      "Soma:\n",
      "\n",
      " age       34.375\n",
      "visits    19.000\n",
      "dtype: float64\n",
      "\n",
      "\n",
      "Media:\n",
      "\n",
      " age       3.4375\n",
      "visits    1.9000\n",
      "dtype: float64\n",
      "\n",
      "\n",
      "Desvio Padrao:\n",
      "\n",
      " age       1.770711\n",
      "visits    0.875595\n",
      "dtype: float64\n",
      "\n",
      "\n",
      "Variancia:\n",
      "\n",
      " age       3.135417\n",
      "visits    0.766667\n",
      "dtype: float64\n"
     ]
    }
   ],
   "source": [
    "# resposta 1\n",
    "df = DataFrame(data=data, index=labels)\n",
    "print ('a)\\n\\n', df)\n",
    "df.fillna(df.mean(), inplace=True)\n",
    "print ('\\n\\nb)\\n\\n', df)\n",
    "uniques = df['animal'].unique()\n",
    "print ('\\n\\nc)\\n\\n', uniques)\n",
    "\n",
    "print ('\\n\\nd)\\n\\n')\n",
    "print('Contagem:\\n\\n', df.animal.count())\n",
    "print('\\n\\nSoma:\\n\\n', df.sum(numeric_only=True))\n",
    "print('\\n\\nMedia:\\n\\n', df.mean())\n",
    "print('\\n\\nDesvio Padrao:\\n\\n', df.std())\n",
    "print('\\n\\nVariancia:\\n\\n', df.var())\n",
    "\n",
    "\n"
   ]
  },
  {
   "cell_type": "markdown",
   "metadata": {},
   "source": [
    "## 2) Considerando o mesmo código, faça:\n",
    "    -> Crie uma função que multiplique o número de visitas por 2. Retorne o data frame completo com valores atualizados\n",
    "    -> Crie uma função que insere uma coluna que contenha um ranking dos animais mais visitados. Retorne o dataframe ordenado de forma descendente\n",
    "    -> Verifique se os animais da seguinte lista pertencem aos dados originais: New_animals = [‘cow’,’horse’,shark’]"
   ]
  },
  {
   "cell_type": "code",
   "execution_count": 59,
   "metadata": {},
   "outputs": [
    {
     "name": "stdout",
     "output_type": "stream",
     "text": [
      "a)\n",
      "\n",
      "   animal     age  visits priority\n",
      "a    cat  2.5000       2      yes\n",
      "b    cat  3.0000       6      yes\n",
      "c  snake  0.5000       4       no\n",
      "d    dog  3.4375       6      yes\n",
      "e    dog  5.0000       4       no\n",
      "f    cat  2.0000       6       no\n",
      "g  snake  4.5000       2       no\n",
      "h    cat  3.4375       2      yes\n",
      "i    dog  7.0000       4       no\n",
      "j    dog  3.0000       2       no\n",
      "\n",
      "\n",
      "b)\n",
      "\n",
      "   animal     age  visits priority  rank\n",
      "b    cat  3.0000       6      yes   9.0\n",
      "d    dog  3.4375       6      yes   9.0\n",
      "f    cat  2.0000       6       no   9.0\n",
      "c  snake  0.5000       4       no   6.0\n",
      "e    dog  5.0000       4       no   6.0\n",
      "i    dog  7.0000       4       no   6.0\n",
      "a    cat  2.5000       2      yes   2.5\n",
      "g  snake  4.5000       2       no   2.5\n",
      "h    cat  3.4375       2      yes   2.5\n",
      "j    dog  3.0000       2       no   2.5\n",
      "\n",
      "\n",
      "c)\n",
      "\n",
      " a    False\n",
      "b    False\n",
      "c    False\n",
      "d    False\n",
      "e    False\n",
      "f    False\n",
      "g    False\n",
      "h    False\n",
      "i    False\n",
      "j    False\n",
      "Name: animal, dtype: bool\n"
     ]
    }
   ],
   "source": [
    "# resposta 2\n",
    "def multiplica_por_2(df):\n",
    "    df.visits = df.visits.apply(lambda x: x*2)\n",
    "    return df\n",
    "print('a)\\n\\n', multiplica_por_2(df))\n",
    "\n",
    "def rank_animais_mais_visitados(df):\n",
    "    df['rank'] = df['visits'].rank()\n",
    "    df = df.sort_values(by='rank', ascending=False)\n",
    "    return df\n",
    "print('\\n\\nb)\\n\\n', rank_animais_mais_visitados(df))\n",
    "\n",
    "New_animals = ['cow','horse','shark']\n",
    "print('\\n\\nc)\\n\\n', df.animal.isin(new_animals))"
   ]
  },
  {
   "cell_type": "markdown",
   "metadata": {},
   "source": [
    "## 3) Crie uma função que filtre as linhas do df no código abaixo de acordo com a palavra-chave passada como parâmetro (apenas estado):"
   ]
  },
  {
   "cell_type": "code",
   "execution_count": 61,
   "metadata": {},
   "outputs": [
    {
     "name": "stdout",
     "output_type": "stream",
     "text": [
      "          DateofBirth State\n",
      "Jane       1986-11-11    NY\n",
      "Nick       1999-05-12    TX\n",
      "Aaron      1976-01-01    FL\n",
      "Penelope   1986-06-01    AL\n",
      "Dean       1983-06-04    AK\n",
      "Christina  1990-03-07    TX\n",
      "Cornelia   1999-07-09    TX\n"
     ]
    }
   ],
   "source": [
    "df = pd.DataFrame({'DateofBirth':['1986-11-11','1999-05-12','1976-01-01',\n",
    "                                  '1986-06-01','1983-06-04','1990-03-07',\n",
    "                                  '1999-07-09'],\n",
    "                   'State':['NY','TX','FL','AL','AK','TX','TX']},\n",
    "                 index=['Jane','Nick','Aaron','Penelope','Dean',\n",
    "                        'Christina','Cornelia'])\n",
    "print(df)"
   ]
  },
  {
   "cell_type": "code",
   "execution_count": 65,
   "metadata": {},
   "outputs": [
    {
     "data": {
      "text/html": [
       "<div>\n",
       "<style scoped>\n",
       "    .dataframe tbody tr th:only-of-type {\n",
       "        vertical-align: middle;\n",
       "    }\n",
       "\n",
       "    .dataframe tbody tr th {\n",
       "        vertical-align: top;\n",
       "    }\n",
       "\n",
       "    .dataframe thead th {\n",
       "        text-align: right;\n",
       "    }\n",
       "</style>\n",
       "<table border=\"1\" class=\"dataframe\">\n",
       "  <thead>\n",
       "    <tr style=\"text-align: right;\">\n",
       "      <th></th>\n",
       "      <th>DateofBirth</th>\n",
       "      <th>State</th>\n",
       "    </tr>\n",
       "  </thead>\n",
       "  <tbody>\n",
       "    <tr>\n",
       "      <th>Jane</th>\n",
       "      <td>1986-11-11</td>\n",
       "      <td>NY</td>\n",
       "    </tr>\n",
       "  </tbody>\n",
       "</table>\n",
       "</div>"
      ],
      "text/plain": [
       "     DateofBirth State\n",
       "Jane  1986-11-11    NY"
      ]
     },
     "execution_count": 65,
     "metadata": {},
     "output_type": "execute_result"
    }
   ],
   "source": [
    "# resposta 3\n",
    "def filtrar_por_estado(df, estado):\n",
    "    return df[df.State==estado]\n",
    "\n",
    "filtrar_por_estado(df, 'NY')\n"
   ]
  },
  {
   "cell_type": "code",
   "execution_count": null,
   "metadata": {},
   "outputs": [],
   "source": []
  }
 ],
 "metadata": {
  "kernelspec": {
   "display_name": "Python 3",
   "language": "python",
   "name": "python3"
  },
  "language_info": {
   "codemirror_mode": {
    "name": "ipython",
    "version": 3
   },
   "file_extension": ".py",
   "mimetype": "text/x-python",
   "name": "python",
   "nbconvert_exporter": "python",
   "pygments_lexer": "ipython3",
   "version": "3.7.3"
  }
 },
 "nbformat": 4,
 "nbformat_minor": 2
}
